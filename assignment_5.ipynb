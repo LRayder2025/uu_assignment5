{
 "cells": [
  {
   "cell_type": "markdown",
   "id": "dd21efe9",
   "metadata": {},
   "source": [
    "# Assignment 5\n",
    "### Do all four questions."
   ]
  },
  {
   "cell_type": "markdown",
   "id": "1ee9b4e8",
   "metadata": {},
   "source": [
    "**1.** Let's review some basic matrix multiplication. When you have an $M \\times N$ matrix $A$ with $M$ rows and $N$ columns, \n",
    "$$\n",
    "A= \\left[ \\begin{array}{cccc} a_{11} & a_{12} & ... & a_{1N} \\\\\n",
    "a_{21} & a_{22} & ... & a_{2N} \\\\\n",
    "\\vdots & \\vdots & ... & \\vdots \\\\\n",
    "a_{M1} & a_{M2} & ... & a_{MN} \n",
    "\\end{array} \\right],\n",
    "$$\n",
    "and you right-multiply it by a vector\n",
    "$$\n",
    "x = \\left[ \\begin{array}{c} x_1 \\\\ x_2 \\\\ \\vdots \\\\ x_N \n",
    "\\end{array} \\right],\n",
    "$$\n",
    "you get\n",
    "$$\n",
    "Ax = \\left[ \\begin{array}{c} \\sum_{i=1}^N a_{1i} x_i \\\\ \\sum_{i=1}^N a_{2i} x_i \\\\ \\vdots \\\\ \\sum_{i=1}^N a_{Mi} x_i \n",
    "\\end{array} \\right].\n",
    "$$\n",
    "This is just \"matrix row times column vector\" element-by-element, stacking the results into a new vector.\n",
    "\n",
    "For this to make sense, $N$ must be the same for the matrix and the vector, but $M$ can be different from $N$. \n",
    "\n",
    "Let's play with some NumPy to see this. First we'll define a matrix $A$:"
   ]
  },
  {
   "cell_type": "code",
   "execution_count": 2,
   "id": "33df3579",
   "metadata": {},
   "outputs": [
    {
     "data": {
      "text/plain": [
       "array([[1, 2, 3],\n",
       "       [4, 5, 6],\n",
       "       [7, 8, 9]])"
      ]
     },
     "execution_count": 2,
     "metadata": {},
     "output_type": "execute_result"
    }
   ],
   "source": [
    "import numpy as np\n",
    "\n",
    "A = np.array([ [1,2,3],\n",
    "              [4,5,6],\n",
    "              [7,8,9]])\n",
    "A"
   ]
  },
  {
   "cell_type": "markdown",
   "id": "94b1b3ac",
   "metadata": {},
   "source": [
    "a. Multiply $A$ times each of the following vectors using the @ operator. Explain which part of the $A$ matrix gets selected and explain why, using the definition of matrix multiplication. "
   ]
  },
  {
   "cell_type": "code",
   "execution_count": 3,
   "id": "5b6148d2",
   "metadata": {},
   "outputs": [],
   "source": [
    "e_1 = np.array([1,0,0])\n",
    "e_2 = np.array([0,1,0])\n",
    "e_3 = np.array([0,0,1])"
   ]
  },
  {
   "cell_type": "markdown",
   "id": "4a556179",
   "metadata": {},
   "source": [
    "### a. My Answer"
   ]
  },
  {
   "cell_type": "code",
   "execution_count": 4,
   "id": "a3559b95",
   "metadata": {},
   "outputs": [
    {
     "name": "stdout",
     "output_type": "stream",
     "text": [
      "[1 4 7]\n",
      "[2 5 8]\n",
      "[3 6 9]\n"
     ]
    }
   ],
   "source": [
    "print(A @ e_1)\n",
    "print(A @ e_2)\n",
    "print(A @ e_3)"
   ]
  },
  {
   "cell_type": "markdown",
   "id": "1332a23f",
   "metadata": {},
   "source": [
    "These resulting vectors make sense, because e_1 selects the first column of A, e_2 the second column, and e_3 the third. This is because the indices of our vector correspond to columns in the matrix, i.e. when there's a 1 in the first index of the array, it's multiplied into the first column, when there's a 0 in the second index of the vector, it's multiplied into second column. By setting only one item in the vector to 1 and the others to zero, we effectively return a single column of A since all the other columns are multiplied by zero. "
   ]
  },
  {
   "cell_type": "markdown",
   "id": "72a4704e",
   "metadata": {},
   "source": [
    "b. Now multiply $A$ times $u = (1,1,1)$. Explain the logic of the result with the definition of matrix multiplication."
   ]
  },
  {
   "cell_type": "code",
   "execution_count": 5,
   "id": "5bf73f9b",
   "metadata": {},
   "outputs": [],
   "source": [
    "u = np.ones(3)"
   ]
  },
  {
   "cell_type": "markdown",
   "id": "7809e3cb",
   "metadata": {},
   "source": [
    "### b. My Answer"
   ]
  },
  {
   "cell_type": "code",
   "execution_count": 6,
   "id": "2552b2dd",
   "metadata": {},
   "outputs": [
    {
     "data": {
      "text/plain": [
       "array([ 6., 15., 24.])"
      ]
     },
     "execution_count": 6,
     "metadata": {},
     "output_type": "execute_result"
    }
   ],
   "source": [
    "A @ u"
   ]
  },
  {
   "cell_type": "markdown",
   "id": "cc606211",
   "metadata": {},
   "source": [
    "This returns the sum of each row. This makes sense because u multiplies each value in the row by 1, and by the definition of matrix multiplication we then add each item in the row. "
   ]
  },
  {
   "cell_type": "markdown",
   "id": "dde75eab",
   "metadata": {},
   "source": [
    "c. Whenever a matrix has 1's on the diagonal and zeros everywhere else, we call it an **identity matrix**. What happens when you multiple $A$ times $x$ below? What happens when you multiple an identity matrix times any vector? Explain your result with the definition of matrix multiplication."
   ]
  },
  {
   "cell_type": "code",
   "execution_count": 7,
   "id": "b0d349c4",
   "metadata": {},
   "outputs": [],
   "source": [
    "A = np.array([ [1,0,0],\n",
    "              [0,1,0],\n",
    "              [0,0,1]])\n",
    "x = np.array([-2,4,11])\n"
   ]
  },
  {
   "cell_type": "markdown",
   "id": "38ad0f7a",
   "metadata": {},
   "source": [
    "### c. My Answer"
   ]
  },
  {
   "cell_type": "code",
   "execution_count": 8,
   "id": "b4a5c0d4",
   "metadata": {},
   "outputs": [
    {
     "data": {
      "text/plain": [
       "array([-2,  4, 11])"
      ]
     },
     "execution_count": 8,
     "metadata": {},
     "output_type": "execute_result"
    }
   ],
   "source": [
    "A @ x"
   ]
  },
  {
   "cell_type": "markdown",
   "id": "bb5610f0",
   "metadata": {},
   "source": [
    "Much like part a., here when we multiply x into A, the indices of the rows of A effectively each correspond to the indices of each item in the vector. This is because each time we multiply x into A, only one item is kept while the rest are multiplied by 0, and we do this once for every item. Since the identity matrix behaves like this, any time we multiply an identity matrix by any vector we will get that same vector back."
   ]
  },
  {
   "cell_type": "markdown",
   "id": "57141925",
   "metadata": {},
   "source": [
    "d. What if every row and column sum to 1, but the 1's are no longer on the diagonal? Multiple $A$ times $X$ below and explain the result. Create another matrix whose rows and columns sum to 1, but is not an identity matrix, and show how it permutes the values of $x$. "
   ]
  },
  {
   "cell_type": "code",
   "execution_count": 9,
   "id": "83a9ed11",
   "metadata": {},
   "outputs": [],
   "source": [
    "A = np.array([ [0,0,1],\n",
    "              [1,0,0],\n",
    "              [0,1,0]])\n",
    "x = np.array([-2,4,11])\n"
   ]
  },
  {
   "cell_type": "markdown",
   "id": "b726a877",
   "metadata": {},
   "source": [
    "### d. My Answer"
   ]
  },
  {
   "cell_type": "code",
   "execution_count": 10,
   "id": "3cd0f50d",
   "metadata": {},
   "outputs": [
    {
     "data": {
      "text/plain": [
       "array([11, -2,  4])"
      ]
     },
     "execution_count": 10,
     "metadata": {},
     "output_type": "execute_result"
    }
   ],
   "source": [
    "A @ x"
   ]
  },
  {
   "cell_type": "markdown",
   "id": "854730a6",
   "metadata": {},
   "source": [
    "Because the ones are not on the diagonal, the indices of the 1's in the rows of A are not in ascending order (i.e. here it's 3, 1, 2), so the items in x have a different order in the output than they did in x. "
   ]
  },
  {
   "cell_type": "code",
   "execution_count": 11,
   "id": "b7ec1524",
   "metadata": {},
   "outputs": [
    {
     "data": {
      "text/plain": [
       "array([-2, 11,  4])"
      ]
     },
     "execution_count": 11,
     "metadata": {},
     "output_type": "execute_result"
    }
   ],
   "source": [
    "B = np.array([ [1,0,0],\n",
    "              [0,0,1],\n",
    "              [0,1,0]])\n",
    "x = np.array([-2,4,11])\n",
    "\n",
    "B @ x"
   ]
  },
  {
   "cell_type": "markdown",
   "id": "611c26c3",
   "metadata": {},
   "source": [
    "e. The next matrix $A$ could be a Markov transition matrix: Its columns sum to 1, and each entry $a_{ij}$ can be interpreted as the proportion of observations who moved from state $j$ to state $i$. Multiply $A$ by each of the vectors $e_1$, $e_2$, and $e_3$, and explain your results."
   ]
  },
  {
   "cell_type": "code",
   "execution_count": 12,
   "id": "aff4fb97",
   "metadata": {},
   "outputs": [
    {
     "name": "stdout",
     "output_type": "stream",
     "text": [
      "[[0.50052958 0.24049286 0.18358131]\n",
      " [0.02574731 0.39251588 0.37907577]\n",
      " [0.47372311 0.36699127 0.43734292]]\n"
     ]
    }
   ],
   "source": [
    "rng = np.random.default_rng(100)\n",
    "A = rng.random((3,3)) # Generate a random 3X3 matrix\n",
    "sums = np.sum(A,axis=0) # Column sums\n",
    "A = A/sums # Normalize the columns so they sum to 1\n",
    "print(A)"
   ]
  },
  {
   "cell_type": "markdown",
   "id": "68e3b545",
   "metadata": {},
   "source": [
    "### e. My Answer"
   ]
  },
  {
   "cell_type": "code",
   "execution_count": 13,
   "id": "ca8f780b",
   "metadata": {},
   "outputs": [
    {
     "data": {
      "text/plain": [
       "array([0.18358131, 0.37907577, 0.43734292])"
      ]
     },
     "execution_count": 13,
     "metadata": {},
     "output_type": "execute_result"
    }
   ],
   "source": [
    "A @ e_1\n",
    "A @ e_2\n",
    "A @ e_3"
   ]
  },
  {
   "cell_type": "markdown",
   "id": "4f356dd9",
   "metadata": {},
   "source": [
    "Since we've established that each vector e_1, e_2, and e_3 corresponds to a column that will be selected in A, here multiplying by an e_j vector chooses which j starting position we're transitioning from. The column that is returned contains the probability of transitioning to each i state. "
   ]
  },
  {
   "cell_type": "markdown",
   "id": "0647bfa7",
   "metadata": {},
   "source": [
    "f. For each of the vectors $e_1, e_2, e_3$, multiple $A$ times that vector 5 times. What answer do you get for each starting vector? Describe the behavior you observe."
   ]
  },
  {
   "cell_type": "code",
   "execution_count": 14,
   "id": "02564680",
   "metadata": {},
   "outputs": [
    {
     "name": "stdout",
     "output_type": "stream",
     "text": [
      "[0.29266551 0.27862515 0.42870935]\n",
      "[0.29197422 0.27979983 0.42822595]\n",
      "[0.29171646 0.2802254  0.42805814]\n"
     ]
    }
   ],
   "source": [
    "print(A @ A @ A @ A @ A @ e_1)\n",
    "print(A @ A @ A @ A @ A @ e_2)\n",
    "print(A @ A @ A @ A @ A @ e_3)"
   ]
  },
  {
   "cell_type": "markdown",
   "id": "6b8d368b",
   "metadata": {},
   "source": [
    "For each starting vector we get roughly [0.29, 0.28, 0.43]. It seems that as we continue to multiply A times that vector, the result converges to certain values."
   ]
  },
  {
   "cell_type": "markdown",
   "id": "fa2c9a93",
   "metadata": {},
   "source": [
    "*2.* Let's consider a simple Markov transition matrix over two states:\n",
    "$$\n",
    "T = \\left[ \\begin{array}{cc} p_{1\\leftarrow 1} &  p_{1\\leftarrow 2} \\\\\n",
    "p_{2 \\leftarrow 1} & p_{2 \\leftarrow 2} \\end{array}\\right] \n",
    "$$\n",
    "The arrows help visualize the transition a bit: This is the same index notation as usual, $p_{ij}$, but writing it $p_{i \\leftarrow j}$ emphasizes that it's the proportion of times that state $j$ transitions to state $i$. Below, $T$ is given by\n",
    "$$\n",
    "T = \\left[ \\begin{array}{cc} .25 & .5 \\\\\n",
    ".75 & .5 \\end{array}\\right].\n",
    "$$\n",
    "\n",
    "- Start in state 1, at the initial condition $[1,0]$. Multiply that vector by $T$. Write out the result in terms of the formula and compute the result in a code chunk below. What is this object you're looking at, in terms of proportions and transitions?\n",
    "- Multiple by $T$ again. What do you get? This isn't a column of $T$. Explain in words what it is. (Hint: A forecast of what in what period?)\n",
    "- Keep multiplying the current vector of outcomes by $T$. When does it start to settle down without changing further?\n",
    "- Do the above analysis again, starting from the initial condition $[0,1]$. Do you get a different result?\n",
    "- The take-away is that, in the long run, these chains settle down into the long-run proportions, and the sensitivity on initial conditions vanishes. \n"
   ]
  },
  {
   "cell_type": "code",
   "execution_count": 15,
   "id": "4b6a775f",
   "metadata": {},
   "outputs": [],
   "source": [
    "T = np.array([[ 1/4, 1/2],\n",
    "                 [ 3/4, 1/2 ]])"
   ]
  },
  {
   "cell_type": "markdown",
   "id": "1d06b0be",
   "metadata": {},
   "source": [
    "### My Answers"
   ]
  },
  {
   "cell_type": "code",
   "execution_count": 16,
   "id": "ec2de77a",
   "metadata": {},
   "outputs": [
    {
     "data": {
      "text/plain": [
       "array([0.25, 0.75])"
      ]
     },
     "execution_count": 16,
     "metadata": {},
     "output_type": "execute_result"
    }
   ],
   "source": [
    "x = np.array([1,0])\n",
    "\n",
    "T @ x"
   ]
  },
  {
   "cell_type": "markdown",
   "id": "bff7e493",
   "metadata": {},
   "source": [
    "[ 0.25 , 0.5 ] [1]       [ 0.25(1) + 0.5(0)]      [0.25]\n",
    "                   -->                        --> \n",
    "[ 0.75 , 0.5 ] [0]       [ 0.75(1) + 0.5(0)]      [0.75]\n",
    "\n",
    "This object I'm looking at represents the probability of each transition that originates FROM state 1. 0.25 represents going from states 1 to 1, 0.75 represents going from states 1 to 2. \n",
    "\n",
    "(the formatting of this is off, but I hope you can still understand. I'm not sure how I can \"write out the result in terms of the formula\" without some pretty complex LaTeX)"
   ]
  },
  {
   "cell_type": "code",
   "execution_count": 17,
   "id": "c26882bb",
   "metadata": {},
   "outputs": [
    {
     "data": {
      "text/plain": [
       "array([0.4375, 0.5625])"
      ]
     },
     "execution_count": 17,
     "metadata": {},
     "output_type": "execute_result"
    }
   ],
   "source": [
    "T @ T @ x"
   ]
  },
  {
   "cell_type": "markdown",
   "id": "7bb320e2",
   "metadata": {},
   "source": [
    "Multiplying by T again returns another set of probabilities, this time it is predicting the transitions starting at state 1 (1 to 1, 1 to 2) for two steps down the road. "
   ]
  },
  {
   "cell_type": "code",
   "execution_count": 18,
   "id": "ef61fecd",
   "metadata": {},
   "outputs": [
    {
     "name": "stdout",
     "output_type": "stream",
     "text": [
      "[0.390625 0.609375] 3 Ts\n",
      "[0.40234375 0.59765625] 4 Ts\n",
      "[0.39941406 0.60058594] 5 Ts\n",
      "[0.40014648 0.59985352] 6 Ts\n",
      "[0.39996338 0.60003662] 7 Ts\n",
      "[0.40000916 0.59999084] 8 Ts\n",
      "[0.39999771 0.60000229] 9 Ts\n",
      "[0.40000057 0.59999943] 10 Ts\n",
      "[0.39999986 0.60000014] 11 Ts\n"
     ]
    }
   ],
   "source": [
    "print(T @ T @ T @ x, '3 Ts')\n",
    "print(T @ T @ T @ T @ x, '4 Ts')\n",
    "print(T @ T @ T @ T @ T @ x, '5 Ts')\n",
    "print(T @ T @ T @ T @ T @ T @ x, '6 Ts')\n",
    "print(T @ T @ T @ T @ T @ T @ T @ x, '7 Ts')\n",
    "print(T @ T @ T @ T @ T @ T @ T @ T @ x, '8 Ts')\n",
    "print(T @ T @ T @ T @ T @ T @ T @ T @ T @ x, '9 Ts')\n",
    "print(T @ T @ T @ T @ T @ T @ T @ T @ T @ T @ x, '10 Ts')\n",
    "print(T @ T @ T @ T @ T @ T @ T @ T @ T @ T @ T @ x, '11 Ts')"
   ]
  },
  {
   "cell_type": "markdown",
   "id": "315afecf",
   "metadata": {},
   "source": [
    "Continuing to multiply the vector outcomes by T, the result begins to settle down when we multiply the vector by T five times, though it does bounce around a little bit from there. "
   ]
  },
  {
   "cell_type": "code",
   "execution_count": 19,
   "id": "f4ad200b",
   "metadata": {},
   "outputs": [
    {
     "name": "stdout",
     "output_type": "stream",
     "text": [
      "[0.5 0.5] T @ y\n",
      "\n",
      "[0.375 0.625] 2 Ts\n",
      "[0.40625 0.59375] 3 Ts\n",
      "[0.3984375 0.6015625] 4 Ts\n",
      "[0.40039062 0.59960938] 5 Ts\n",
      "[0.39990234 0.60009766] 6 Ts\n",
      "[0.40002441 0.59997559] 7 Ts\n"
     ]
    }
   ],
   "source": [
    "y = np.array([0,1])\n",
    "\n",
    "print(T @ y, 'T @ y\\n')\n",
    "\n",
    "print(T @ T @ y, '2 Ts')\n",
    "print(T @ T @ T @ y, '3 Ts')\n",
    "print(T @ T @ T @ T @ y, '4 Ts')\n",
    "print(T @ T @ T @ T @ T @ y, '5 Ts')\n",
    "print(T @ T @ T @ T @ T @ T @ y, '6 Ts')\n",
    "print(T @ T @ T @ T @ T @ T @ T @ y, '7 Ts')"
   ]
  },
  {
   "cell_type": "markdown",
   "id": "461984eb",
   "metadata": {},
   "source": [
    "We actually get the SAME result in the long run when we change the initial condition to [0,1]."
   ]
  },
  {
   "cell_type": "markdown",
   "id": "921592e9",
   "metadata": {},
   "source": [
    "3. Weather data\n",
    "\n",
    "- Load the `cville_weather.csv` data. This includes data from Jan 4, 2024 to Feb 2, 2025. Are there any missing data issues?\n",
    "- Based on the precipitation variable, `PRCP`, make a new variable called `rain` that takes the value 1 if `PRCP`>0 and 0 otherwise.\n",
    "- Build a two-state Markov chain over the states 0 and 1 for the `rain` variable. \n",
    "- For your chain from c, how likely is it to rain if it was rainy yesterday? How likely is it to rain if it was clear yesterday?\n",
    "- Starting from a clear day, forecast the distribution. How quickly does it converge to a fixed result? What if you start from a rainy day?\n",
    "- Conditional on being rainy, plot a KDE of the `PRCP` variable.\n",
    "- Describe one way of making your model better for forecasting and simulation the weather.\n",
    "\n",
    "Congratulations, you now are a non-parametric meteorologist!"
   ]
  },
  {
   "cell_type": "code",
   "execution_count": 20,
   "id": "0571e993",
   "metadata": {},
   "outputs": [],
   "source": [
    "import pickle\n",
    "import numpy as np\n",
    "import seaborn as sns\n",
    "import matplotlib.pyplot as plt\n",
    "import pandas as pd"
   ]
  },
  {
   "cell_type": "code",
   "execution_count": 32,
   "id": "b562ef21",
   "metadata": {},
   "outputs": [],
   "source": [
    "cvilleweather = pd.read_csv('cville_weather.csv')"
   ]
  },
  {
   "cell_type": "code",
   "execution_count": 35,
   "id": "62fb6261",
   "metadata": {},
   "outputs": [],
   "source": [
    "rain = [1 if item > 0.0 else 0 for item in cvilleweather['PRCP']]\n",
    "cvilleweather['rain'] = rain"
   ]
  },
  {
   "cell_type": "code",
   "execution_count": 40,
   "id": "a6798406",
   "metadata": {},
   "outputs": [
    {
     "name": "stdout",
     "output_type": "stream",
     "text": [
      "Weather Counts\n",
      " [[169.  62.]\n",
      " [ 63. 116.]]\n"
     ]
    }
   ],
   "source": [
    "# Making transition matrix\n",
    "rain_unique = set(cvilleweather['rain'])\n",
    "rain_unique = list(rain_unique)\n",
    "Z=len(rain_unique)\n",
    "weather_counts = np.zeros((Z,Z))\n",
    "\n",
    "# Compute transition counts\n",
    "for t in range(1, len(cvilleweather)):\n",
    "    previous = cvilleweather['rain'][t-1]\n",
    "    current = cvilleweather['rain'][t]\n",
    "    weather_counts[previous][current] += 1\n",
    "\n",
    "print('Weather Counts\\n', weather_counts)"
   ]
  },
  {
   "cell_type": "code",
   "execution_count": 41,
   "id": "c57b3271",
   "metadata": {},
   "outputs": [
    {
     "name": "stdout",
     "output_type": "stream",
     "text": [
      "State proportions: \n",
      "\n",
      "[[232. 178.]]\n",
      "State proportions: \n",
      "\n",
      "      0     1\n",
      "0  0.73  0.35\n",
      "1  0.27  0.65\n"
     ]
    }
   ],
   "source": [
    "# Sum the total in each column\n",
    "w_sums = weather_counts.sum(axis=0, keepdims=True)\n",
    "print('State proportions: \\n')\n",
    "print(w_sums)\n",
    "\n",
    "# Normalize transition count matrix to get proportions \n",
    "# by dividing the column sums\n",
    "w_tr_pr = np.divide(weather_counts, w_sums,\n",
    "                  out=np.zeros_like(weather_counts),\n",
    "                  where=w_sums!=0)\n",
    "print('State proportions: \\n')\n",
    "w_tr_df = pd.DataFrame(np.round(w_tr_pr,2), index=rain_unique, columns=rain_unique)\n",
    "print(w_tr_df)"
   ]
  },
  {
   "cell_type": "markdown",
   "id": "3d6c2183",
   "metadata": {},
   "source": [
    "For my chain, if it was rainy yesterday there's a 65% chance it will rain today, and if it was clear there's only a 35% chance it will rain today. "
   ]
  },
  {
   "cell_type": "code",
   "execution_count": null,
   "id": "b04c0c2f",
   "metadata": {},
   "outputs": [],
   "source": [
    "w_tr_df = w_tr_df.to_numpy()"
   ]
  },
  {
   "cell_type": "code",
   "execution_count": 51,
   "id": "b076a77a",
   "metadata": {},
   "outputs": [
    {
     "name": "stdout",
     "output_type": "stream",
     "text": [
      "[0.73 0.27] T @ y\n",
      "\n",
      "[0.6274 0.3726] 2 Ts\n",
      "[0.588412 0.411588] 3 Ts\n",
      "[0.57359656 0.42640344] 4 Ts\n",
      "[0.56796669 0.43203331] 5 Ts\n",
      "[0.56582734 0.43417266] 6 Ts\n",
      "[0.56501439 0.43498561] 7 Ts\n",
      "[0.56470547 0.43529453] 8 Ts\n",
      "[0.56458808 0.43541192] 9 Ts\n"
     ]
    }
   ],
   "source": [
    "v = np.array([1,0])\n",
    "\n",
    "print(w_tr_df @ v, 'T @ y\\n')\n",
    "\n",
    "print(w_tr_df @ w_tr_df @ v, '2 Ts')\n",
    "print(w_tr_df @ w_tr_df @ w_tr_df @ v, '3 Ts')\n",
    "print(w_tr_df @ w_tr_df @ w_tr_df @ w_tr_df @ v, '4 Ts')\n",
    "print(w_tr_df @ w_tr_df @ w_tr_df @ w_tr_df @ w_tr_df @ v, '5 Ts')\n",
    "print(w_tr_df @ w_tr_df @ w_tr_df @ w_tr_df @ w_tr_df @ w_tr_df @ v, '6 Ts')\n",
    "print(w_tr_df @ w_tr_df @ w_tr_df @ w_tr_df @ w_tr_df @ w_tr_df @ w_tr_df @ v, '7 Ts')\n",
    "print(w_tr_df @ w_tr_df @ w_tr_df @ w_tr_df @ w_tr_df @ w_tr_df @ w_tr_df @ w_tr_df @ v, '8 Ts')\n",
    "print(w_tr_df @ w_tr_df @ w_tr_df @ w_tr_df @ w_tr_df @ w_tr_df @ w_tr_df @ w_tr_df @ w_tr_df @ v, '9 Ts')"
   ]
  },
  {
   "cell_type": "code",
   "execution_count": 48,
   "id": "e675f986",
   "metadata": {},
   "outputs": [
    {
     "name": "stdout",
     "output_type": "stream",
     "text": [
      "[0.35 0.65] T @ y\n",
      "\n",
      "[0.483 0.517] 2 Ts\n",
      "[0.53354 0.46646] 3 Ts\n",
      "[0.5527452 0.4472548] 4 Ts\n",
      "[0.56004318 0.43995682] 5 Ts\n",
      "[0.56281641 0.43718359] 6 Ts\n",
      "[0.56387023 0.43612977] 7 Ts\n",
      "[0.56427069 0.43572931] 8 Ts\n",
      "[0.56442286 0.43557714] 9 Ts\n"
     ]
    }
   ],
   "source": [
    "v = np.array([0,1])\n",
    "\n",
    "print(w_tr_df @ v, 'T @ y\\n')\n",
    "\n",
    "print(w_tr_df @ w_tr_df @ v, '2 Ts')\n",
    "print(w_tr_df @ w_tr_df @ w_tr_df @ v, '3 Ts')\n",
    "print(w_tr_df @ w_tr_df @ w_tr_df @ w_tr_df @ v, '4 Ts')\n",
    "print(w_tr_df @ w_tr_df @ w_tr_df @ w_tr_df @ w_tr_df @ v, '5 Ts')\n",
    "print(w_tr_df @ w_tr_df @ w_tr_df @ w_tr_df @ w_tr_df @ w_tr_df @ v, '6 Ts')\n",
    "print(w_tr_df @ w_tr_df @ w_tr_df @ w_tr_df @ w_tr_df @ w_tr_df @ w_tr_df @ v, '7 Ts')\n",
    "print(w_tr_df @ w_tr_df @ w_tr_df @ w_tr_df @ w_tr_df @ w_tr_df @ w_tr_df @ w_tr_df @ v, '8 Ts')\n",
    "print(w_tr_df @ w_tr_df @ w_tr_df @ w_tr_df @ w_tr_df @ w_tr_df @ w_tr_df @ w_tr_df @ w_tr_df @ v, '9 Ts')"
   ]
  },
  {
   "cell_type": "markdown",
   "id": "a611c06d",
   "metadata": {},
   "source": [
    "Both when starting from a clear day (first code block) and from a rainy day (second code block) it takes roughly 9 instances for the distribution to converge. "
   ]
  },
  {
   "cell_type": "code",
   "execution_count": null,
   "id": "c6c8bdb3",
   "metadata": {},
   "outputs": [
    {
     "name": "stdout",
     "output_type": "stream",
     "text": [
      "0.02\n"
     ]
    },
    {
     "data": {
      "image/png": "[encoded data removed]",
      "text/plain": [
       "<Figure size 640x480 with 1 Axes>"
      ]
     },
     "metadata": {},
     "output_type": "display_data"
    }
   ],
   "source": [
    "import seaborn as sns\n",
    "sns.kdeplot(cvilleweather[cvilleweather['rain'] == 1]['PRCP'])"
   ]
  },
  {
   "cell_type": "markdown",
   "id": "0e52f91d",
   "metadata": {},
   "source": [
    "I may make my model better by creating new states that are dependent on weather related variables, for example, a 4x4 matrix with clear and low temperatures, clear and high temperatures, rainy and low temperatures, rainy and high temperatures. I could add in air pressure and such as well."
   ]
  },
  {
   "cell_type": "markdown",
   "id": "b953c2c4",
   "metadata": {},
   "source": [
    "4. Taxicab trajectories: Using the pickled taxicab data, we want to complete the exercise from class.\n",
    "\n",
    "- For the taxicab trajectory data, determine your state space and clean your sequences of cab rides.\n",
    "- Compute the transition matrix for the taxicab data between neighborhoods in Manhattan. Plot it in a heat map. What are the most common routes?\n",
    "- Explain why taxicabs are most likely order 1, and not 2 or more.\n",
    "- Starting at Hell's Kitchen, create a sequence of forecasts of where the cab is likely to be in 2, 3, 5, and 10 trips\n",
    "- Starting at any neighborhood, iterate your forecast until it is no longer changing very much. Where do cabs spend most of their time working in Manhattan?"
   ]
  },
  {
   "cell_type": "markdown",
   "id": "2a5bc945",
   "metadata": {},
   "source": [
    "(The following code is written with guidance from Terry)"
   ]
  },
  {
   "cell_type": "code",
   "execution_count": 22,
   "id": "501794be",
   "metadata": {},
   "outputs": [
    {
     "name": "stdout",
     "output_type": "stream",
     "text": [
      "1000\n",
      "<class 'pandas.core.series.Series'>\n"
     ]
    }
   ],
   "source": [
    "with open('taxicab.pkl', 'rb') as f:\n",
    "    data = pickle.load(f)\n",
    "\n",
    "print(len(data))\n",
    "data[0]\n",
    "\n",
    "print(type(data[2]))"
   ]
  },
  {
   "cell_type": "code",
   "execution_count": 130,
   "id": "f4d3936f",
   "metadata": {},
   "outputs": [
    {
     "name": "stdout",
     "output_type": "stream",
     "text": [
      "33\n",
      "{'Gramercy', 'Kips Bay', 'Upper East Side', 'Stuyvesant Town', 'SoHo', 'Outside Manhattan', 'Theater District', 'Lower East Side', 'Murray Hill', 'Flatiron District', 'Central Park', \"Hell's Kitchen\", 'Greenwich Village', 'Tribeca', 'Midtown', 'East Village', 'Upper West Side', 'Inwood', 'Battery Park City', 'Nolita', 'Roosevelt Island', 'Two Bridges', 'West Village', 'Chelsea', 'Harlem', 'Washington Heights', 'Morningside Heights', 'NoHo', 'Financial District', 'Little Italy', 'Civic Center', 'Chinatown', 'East Harlem'}\n",
      "{'Gramercy', 'Kips Bay', 'Upper East Side', 'Stuyvesant Town', 'SoHo', 'Outside Manhattan', 'Theater District', 'Murray Hill', 'Flatiron District', 'Lower East Side', 'Central Park', \"Hell's Kitchen\", 'Greenwich Village', 'Tribeca', 'Midtown', 'East Village', 'Upper West Side', 'Inwood', 'Battery Park City', \"Randall's Island\", 'Nolita', 'Roosevelt Island', 'Two Bridges', 'Marble Hill', 'West Village', 'Chelsea', 'Harlem', 'Washington Heights', 'Morningside Heights', 'NoHo', 'Financial District', 'Little Italy', 'Civic Center', 'Chinatown', 'East Harlem'}\n",
      "{'Gramercy', 'Kips Bay', 'Upper East Side', 'Stuyvesant Town', 'SoHo', 'Outside Manhattan', 'Theater District', 'Murray Hill', 'Flatiron District', 'Lower East Side', 'Central Park', 'Greenwich Village', \"Hell's Kitchen\", 'Tribeca', 'Midtown', 'East Village', 'Upper West Side', 'Inwood', 'Battery Park City', \"Randall's Island\", 'Nolita', 'Roosevelt Island', 'Two Bridges', 'Marble Hill', 'West Village', 'Chelsea', 'Harlem', 'Washington Heights', 'Morningside Heights', 'NoHo', 'Financial District', 'Little Italy', 'Civic Center', 'Chinatown', 'East Harlem'}\n"
     ]
    }
   ],
   "source": [
    "# Investigating all the states\n",
    "print(len(set(data[0])))\n",
    "print(set(data[0]))\n",
    "print(set(data[1]))\n",
    "print(set(data[2]))"
   ]
  },
  {
   "cell_type": "code",
   "execution_count": 131,
   "id": "01819cc1",
   "metadata": {},
   "outputs": [],
   "source": [
    "# Getting unique rows from the data?\n",
    "states = set(data[0])\n",
    "for i in range(1,len(data)):\n",
    "    trip_i = set(data[i])\n",
    "    states = states.union(trip_i)\n",
    "states = list(states)"
   ]
  },
  {
   "cell_type": "code",
   "execution_count": 132,
   "id": "a2eb8358",
   "metadata": {},
   "outputs": [
    {
     "data": {
      "text/plain": [
       "['Gramercy',\n",
       " 'Kips Bay',\n",
       " 'Upper East Side',\n",
       " 'Stuyvesant Town',\n",
       " 'SoHo',\n",
       " 'Outside Manhattan',\n",
       " 'Theater District',\n",
       " 'Lower East Side',\n",
       " 'Murray Hill',\n",
       " 'Flatiron District',\n",
       " 'Central Park',\n",
       " \"Hell's Kitchen\",\n",
       " 'Greenwich Village',\n",
       " 'Tribeca',\n",
       " 'Midtown',\n",
       " 'East Village',\n",
       " 'Upper West Side',\n",
       " 'Inwood',\n",
       " 'Battery Park City',\n",
       " 'Governors Island',\n",
       " \"Randall's Island\",\n",
       " 'Liberty Island',\n",
       " 'Nolita',\n",
       " 'Roosevelt Island',\n",
       " 'Two Bridges',\n",
       " 'Marble Hill',\n",
       " 'West Village',\n",
       " 'Chelsea',\n",
       " 'Harlem',\n",
       " 'Washington Heights',\n",
       " 'Morningside Heights',\n",
       " 'NoHo',\n",
       " 'Ellis Island',\n",
       " 'Financial District',\n",
       " 'Little Italy',\n",
       " 'Civic Center',\n",
       " 'Chinatown',\n",
       " 'East Harlem']"
      ]
     },
     "execution_count": 132,
     "metadata": {},
     "output_type": "execute_result"
    }
   ],
   "source": [
    "states"
   ]
  },
  {
   "cell_type": "code",
   "execution_count": 133,
   "id": "de2e65f1",
   "metadata": {},
   "outputs": [
    {
     "name": "stdout",
     "output_type": "stream",
     "text": [
      "Transition Counts\n",
      " [[8.804900e+04 3.121100e+04 2.758700e+04 ... 9.460000e+02 2.102000e+03\n",
      "  2.399000e+03]\n",
      " [2.753800e+04 9.787300e+04 3.527500e+04 ... 7.030000e+02 1.409000e+03\n",
      "  3.111000e+03]\n",
      " [2.607700e+04 3.390700e+04 1.283151e+06 ... 1.983000e+03 2.634000e+03\n",
      "  8.978800e+04]\n",
      " ...\n",
      " [7.960000e+02 6.620000e+02 1.689000e+03 ... 5.493000e+03 1.915000e+03\n",
      "  2.090000e+02]\n",
      " [2.420000e+03 1.779000e+03 2.506000e+03 ... 2.644000e+03 1.398000e+04\n",
      "  3.460000e+02]\n",
      " [2.049000e+03 2.747000e+03 8.755300e+04 ... 1.710000e+02 2.690000e+02\n",
      "  7.192200e+04]]\n"
     ]
    }
   ],
   "source": [
    "## Compute transition counts\n",
    "S = len(states)\n",
    "tr_counts = np.zeros((S,S))\n",
    "\n",
    "for trip in data:\n",
    "    seq = np.array(trip)\n",
    "    for t in range(1, len(seq)):\n",
    "        # Current and next tokens\n",
    "        x_tm1 = seq[t-1] # previous state\n",
    "        x_t = seq[t] # current state\n",
    "        # Determine transition indices:\n",
    "        index_from = states.index(x_tm1)\n",
    "        index_to = states.index(x_t)\n",
    "        # Update transition counts\n",
    "        tr_counts[index_from, index_to] += 1\n",
    "\n",
    "print('Transition Counts\\n', tr_counts)"
   ]
  },
  {
   "cell_type": "code",
   "execution_count": 134,
   "id": "ddb6418e",
   "metadata": {},
   "outputs": [
    {
     "name": "stdout",
     "output_type": "stream",
     "text": [
      "State proportions: \n",
      "\n",
      "[[5.017430e+05 5.077760e+05 2.797713e+06 1.112860e+05 5.505970e+05\n",
      "  2.363961e+06 8.740550e+05 3.705660e+05 6.543970e+05 3.952740e+05\n",
      "  3.701250e+05 1.224325e+06 5.102620e+05 4.086400e+05 3.851929e+06\n",
      "  8.886440e+05 1.803491e+06 1.431200e+04 2.292330e+05 1.200000e+01\n",
      "  3.603000e+03 1.000000e+00 1.063770e+05 8.010000e+03 1.038800e+04\n",
      "  4.930000e+02 8.393620e+05 1.978283e+06 2.171620e+05 7.253000e+04\n",
      "  1.627050e+05 1.743220e+05 3.000000e+00 4.415950e+05 3.859100e+04\n",
      "  5.790800e+04 1.058730e+05 3.168490e+05]]\n"
     ]
    }
   ],
   "source": [
    "# Sum transititon counts by row (INTO each state):\n",
    "sums = tr_counts.sum(axis=0, keepdims=True)\n",
    "print('State proportions: \\n')\n",
    "print(sums)"
   ]
  },
  {
   "cell_type": "code",
   "execution_count": 135,
   "id": "9ae6c330",
   "metadata": {},
   "outputs": [
    {
     "name": "stdout",
     "output_type": "stream",
     "text": [
      "State proportions: \n",
      "\n"
     ]
    },
    {
     "data": {
      "text/html": [
       "<div>\n",
       "<style scoped>\n",
       "    .dataframe tbody tr th:only-of-type {\n",
       "        vertical-align: middle;\n",
       "    }\n",
       "\n",
       "    .dataframe tbody tr th {\n",
       "        vertical-align: top;\n",
       "    }\n",
       "\n",
       "    .dataframe thead th {\n",
       "        text-align: right;\n",
       "    }\n",
       "</style>\n",
       "<table border=\"1\" class=\"dataframe\">\n",
       "  <thead>\n",
       "    <tr style=\"text-align: right;\">\n",
       "      <th></th>\n",
       "      <th>Gramercy</th>\n",
       "      <th>Kips Bay</th>\n",
       "      <th>Upper East Side</th>\n",
       "      <th>Stuyvesant Town</th>\n",
       "      <th>SoHo</th>\n",
       "      <th>...</th>\n",
       "      <th>Financial District</th>\n",
       "      <th>Little Italy</th>\n",
       "      <th>Civic Center</th>\n",
       "      <th>Chinatown</th>\n",
       "      <th>East Harlem</th>\n",
       "    </tr>\n",
       "  </thead>\n",
       "  <tbody>\n",
       "    <tr>\n",
       "      <th>Gramercy</th>\n",
       "      <td>0.18</td>\n",
       "      <td>0.06</td>\n",
       "      <td>0.01</td>\n",
       "      <td>0.07</td>\n",
       "      <td>0.02</td>\n",
       "      <td>...</td>\n",
       "      <td>0.01</td>\n",
       "      <td>0.01</td>\n",
       "      <td>0.02</td>\n",
       "      <td>0.02</td>\n",
       "      <td>0.01</td>\n",
       "    </tr>\n",
       "    <tr>\n",
       "      <th>Kips Bay</th>\n",
       "      <td>0.05</td>\n",
       "      <td>0.19</td>\n",
       "      <td>0.01</td>\n",
       "      <td>0.05</td>\n",
       "      <td>0.01</td>\n",
       "      <td>...</td>\n",
       "      <td>0.01</td>\n",
       "      <td>0.01</td>\n",
       "      <td>0.01</td>\n",
       "      <td>0.01</td>\n",
       "      <td>0.01</td>\n",
       "    </tr>\n",
       "    <tr>\n",
       "      <th>Upper East Side</th>\n",
       "      <td>0.05</td>\n",
       "      <td>0.07</td>\n",
       "      <td>0.46</td>\n",
       "      <td>0.05</td>\n",
       "      <td>0.03</td>\n",
       "      <td>...</td>\n",
       "      <td>0.04</td>\n",
       "      <td>0.02</td>\n",
       "      <td>0.03</td>\n",
       "      <td>0.02</td>\n",
       "      <td>0.28</td>\n",
       "    </tr>\n",
       "    <tr>\n",
       "      <th>Stuyvesant Town</th>\n",
       "      <td>0.02</td>\n",
       "      <td>0.02</td>\n",
       "      <td>0.00</td>\n",
       "      <td>0.14</td>\n",
       "      <td>0.00</td>\n",
       "      <td>...</td>\n",
       "      <td>0.00</td>\n",
       "      <td>0.00</td>\n",
       "      <td>0.00</td>\n",
       "      <td>0.00</td>\n",
       "      <td>0.00</td>\n",
       "    </tr>\n",
       "    <tr>\n",
       "      <th>SoHo</th>\n",
       "      <td>0.02</td>\n",
       "      <td>0.01</td>\n",
       "      <td>0.01</td>\n",
       "      <td>0.02</td>\n",
       "      <td>0.25</td>\n",
       "      <td>...</td>\n",
       "      <td>0.03</td>\n",
       "      <td>0.06</td>\n",
       "      <td>0.06</td>\n",
       "      <td>0.05</td>\n",
       "      <td>0.00</td>\n",
       "    </tr>\n",
       "    <tr>\n",
       "      <th>Outside Manhattan</th>\n",
       "      <td>0.05</td>\n",
       "      <td>0.05</td>\n",
       "      <td>0.05</td>\n",
       "      <td>0.07</td>\n",
       "      <td>0.08</td>\n",
       "      <td>...</td>\n",
       "      <td>0.09</td>\n",
       "      <td>0.24</td>\n",
       "      <td>0.24</td>\n",
       "      <td>0.19</td>\n",
       "      <td>0.08</td>\n",
       "    </tr>\n",
       "    <tr>\n",
       "      <th>Theater District</th>\n",
       "      <td>0.02</td>\n",
       "      <td>0.02</td>\n",
       "      <td>0.02</td>\n",
       "      <td>0.01</td>\n",
       "      <td>0.02</td>\n",
       "      <td>...</td>\n",
       "      <td>0.02</td>\n",
       "      <td>0.02</td>\n",
       "      <td>0.02</td>\n",
       "      <td>0.02</td>\n",
       "      <td>0.02</td>\n",
       "    </tr>\n",
       "    <tr>\n",
       "      <th>Lower East Side</th>\n",
       "      <td>0.03</td>\n",
       "      <td>0.02</td>\n",
       "      <td>0.00</td>\n",
       "      <td>0.03</td>\n",
       "      <td>0.02</td>\n",
       "      <td>...</td>\n",
       "      <td>0.03</td>\n",
       "      <td>0.03</td>\n",
       "      <td>0.02</td>\n",
       "      <td>0.06</td>\n",
       "      <td>0.01</td>\n",
       "    </tr>\n",
       "    <tr>\n",
       "      <th>Murray Hill</th>\n",
       "      <td>0.04</td>\n",
       "      <td>0.07</td>\n",
       "      <td>0.02</td>\n",
       "      <td>0.03</td>\n",
       "      <td>0.01</td>\n",
       "      <td>...</td>\n",
       "      <td>0.02</td>\n",
       "      <td>0.01</td>\n",
       "      <td>0.02</td>\n",
       "      <td>0.01</td>\n",
       "      <td>0.01</td>\n",
       "    </tr>\n",
       "    <tr>\n",
       "      <th>Flatiron District</th>\n",
       "      <td>0.04</td>\n",
       "      <td>0.03</td>\n",
       "      <td>0.01</td>\n",
       "      <td>0.02</td>\n",
       "      <td>0.02</td>\n",
       "      <td>...</td>\n",
       "      <td>0.01</td>\n",
       "      <td>0.01</td>\n",
       "      <td>0.01</td>\n",
       "      <td>0.01</td>\n",
       "      <td>0.00</td>\n",
       "    </tr>\n",
       "    <tr>\n",
       "      <th>Central Park</th>\n",
       "      <td>0.00</td>\n",
       "      <td>0.00</td>\n",
       "      <td>0.03</td>\n",
       "      <td>0.00</td>\n",
       "      <td>0.00</td>\n",
       "      <td>...</td>\n",
       "      <td>0.00</td>\n",
       "      <td>0.00</td>\n",
       "      <td>0.00</td>\n",
       "      <td>0.00</td>\n",
       "      <td>0.02</td>\n",
       "    </tr>\n",
       "    <tr>\n",
       "      <th>Hell's Kitchen</th>\n",
       "      <td>0.02</td>\n",
       "      <td>0.02</td>\n",
       "      <td>0.02</td>\n",
       "      <td>0.02</td>\n",
       "      <td>0.02</td>\n",
       "      <td>...</td>\n",
       "      <td>0.03</td>\n",
       "      <td>0.02</td>\n",
       "      <td>0.02</td>\n",
       "      <td>0.02</td>\n",
       "      <td>0.02</td>\n",
       "    </tr>\n",
       "    <tr>\n",
       "      <th>Greenwich Village</th>\n",
       "      <td>0.03</td>\n",
       "      <td>0.02</td>\n",
       "      <td>0.01</td>\n",
       "      <td>0.03</td>\n",
       "      <td>0.05</td>\n",
       "      <td>...</td>\n",
       "      <td>0.02</td>\n",
       "      <td>0.02</td>\n",
       "      <td>0.03</td>\n",
       "      <td>0.03</td>\n",
       "      <td>0.00</td>\n",
       "    </tr>\n",
       "    <tr>\n",
       "      <th>Tribeca</th>\n",
       "      <td>0.01</td>\n",
       "      <td>0.01</td>\n",
       "      <td>0.00</td>\n",
       "      <td>0.01</td>\n",
       "      <td>0.07</td>\n",
       "      <td>...</td>\n",
       "      <td>0.05</td>\n",
       "      <td>0.03</td>\n",
       "      <td>0.07</td>\n",
       "      <td>0.04</td>\n",
       "      <td>0.00</td>\n",
       "    </tr>\n",
       "    <tr>\n",
       "      <th>Midtown</th>\n",
       "      <td>0.14</td>\n",
       "      <td>0.18</td>\n",
       "      <td>0.17</td>\n",
       "      <td>0.11</td>\n",
       "      <td>0.08</td>\n",
       "      <td>...</td>\n",
       "      <td>0.09</td>\n",
       "      <td>0.07</td>\n",
       "      <td>0.07</td>\n",
       "      <td>0.06</td>\n",
       "      <td>0.08</td>\n",
       "    </tr>\n",
       "    <tr>\n",
       "      <th>East Village</th>\n",
       "      <td>0.12</td>\n",
       "      <td>0.08</td>\n",
       "      <td>0.01</td>\n",
       "      <td>0.16</td>\n",
       "      <td>0.04</td>\n",
       "      <td>...</td>\n",
       "      <td>0.03</td>\n",
       "      <td>0.04</td>\n",
       "      <td>0.04</td>\n",
       "      <td>0.06</td>\n",
       "      <td>0.01</td>\n",
       "    </tr>\n",
       "    <tr>\n",
       "      <th>Upper West Side</th>\n",
       "      <td>0.02</td>\n",
       "      <td>0.02</td>\n",
       "      <td>0.07</td>\n",
       "      <td>0.02</td>\n",
       "      <td>0.02</td>\n",
       "      <td>...</td>\n",
       "      <td>0.01</td>\n",
       "      <td>0.01</td>\n",
       "      <td>0.01</td>\n",
       "      <td>0.01</td>\n",
       "      <td>0.08</td>\n",
       "    </tr>\n",
       "    <tr>\n",
       "      <th>Inwood</th>\n",
       "      <td>0.00</td>\n",
       "      <td>0.00</td>\n",
       "      <td>0.00</td>\n",
       "      <td>0.00</td>\n",
       "      <td>0.00</td>\n",
       "      <td>...</td>\n",
       "      <td>0.00</td>\n",
       "      <td>0.00</td>\n",
       "      <td>0.00</td>\n",
       "      <td>0.00</td>\n",
       "      <td>0.00</td>\n",
       "    </tr>\n",
       "    <tr>\n",
       "      <th>Battery Park City</th>\n",
       "      <td>0.00</td>\n",
       "      <td>0.00</td>\n",
       "      <td>0.00</td>\n",
       "      <td>0.01</td>\n",
       "      <td>0.02</td>\n",
       "      <td>...</td>\n",
       "      <td>0.05</td>\n",
       "      <td>0.01</td>\n",
       "      <td>0.02</td>\n",
       "      <td>0.01</td>\n",
       "      <td>0.00</td>\n",
       "    </tr>\n",
       "    <tr>\n",
       "      <th>Governors Island</th>\n",
       "      <td>0.00</td>\n",
       "      <td>0.00</td>\n",
       "      <td>0.00</td>\n",
       "      <td>0.00</td>\n",
       "      <td>0.00</td>\n",
       "      <td>...</td>\n",
       "      <td>0.00</td>\n",
       "      <td>0.00</td>\n",
       "      <td>0.00</td>\n",
       "      <td>0.00</td>\n",
       "      <td>0.00</td>\n",
       "    </tr>\n",
       "    <tr>\n",
       "      <th>Randall's Island</th>\n",
       "      <td>0.00</td>\n",
       "      <td>0.00</td>\n",
       "      <td>0.00</td>\n",
       "      <td>0.00</td>\n",
       "      <td>0.00</td>\n",
       "      <td>...</td>\n",
       "      <td>0.00</td>\n",
       "      <td>0.00</td>\n",
       "      <td>0.00</td>\n",
       "      <td>0.00</td>\n",
       "      <td>0.00</td>\n",
       "    </tr>\n",
       "    <tr>\n",
       "      <th>Liberty Island</th>\n",
       "      <td>0.00</td>\n",
       "      <td>0.00</td>\n",
       "      <td>0.00</td>\n",
       "      <td>0.00</td>\n",
       "      <td>0.00</td>\n",
       "      <td>...</td>\n",
       "      <td>0.00</td>\n",
       "      <td>0.00</td>\n",
       "      <td>0.00</td>\n",
       "      <td>0.00</td>\n",
       "      <td>0.00</td>\n",
       "    </tr>\n",
       "    <tr>\n",
       "      <th>Nolita</th>\n",
       "      <td>0.01</td>\n",
       "      <td>0.00</td>\n",
       "      <td>0.00</td>\n",
       "      <td>0.00</td>\n",
       "      <td>0.02</td>\n",
       "      <td>...</td>\n",
       "      <td>0.01</td>\n",
       "      <td>0.02</td>\n",
       "      <td>0.01</td>\n",
       "      <td>0.01</td>\n",
       "      <td>0.00</td>\n",
       "    </tr>\n",
       "    <tr>\n",
       "      <th>Roosevelt Island</th>\n",
       "      <td>0.00</td>\n",
       "      <td>0.00</td>\n",
       "      <td>0.00</td>\n",
       "      <td>0.00</td>\n",
       "      <td>0.00</td>\n",
       "      <td>...</td>\n",
       "      <td>0.00</td>\n",
       "      <td>0.00</td>\n",
       "      <td>0.00</td>\n",
       "      <td>0.00</td>\n",
       "      <td>0.00</td>\n",
       "    </tr>\n",
       "    <tr>\n",
       "      <th>Two Bridges</th>\n",
       "      <td>0.00</td>\n",
       "      <td>0.00</td>\n",
       "      <td>0.00</td>\n",
       "      <td>0.00</td>\n",
       "      <td>0.00</td>\n",
       "      <td>...</td>\n",
       "      <td>0.01</td>\n",
       "      <td>0.00</td>\n",
       "      <td>0.00</td>\n",
       "      <td>0.01</td>\n",
       "      <td>0.00</td>\n",
       "    </tr>\n",
       "    <tr>\n",
       "      <th>Marble Hill</th>\n",
       "      <td>0.00</td>\n",
       "      <td>0.00</td>\n",
       "      <td>0.00</td>\n",
       "      <td>0.00</td>\n",
       "      <td>0.00</td>\n",
       "      <td>...</td>\n",
       "      <td>0.00</td>\n",
       "      <td>0.00</td>\n",
       "      <td>0.00</td>\n",
       "      <td>0.00</td>\n",
       "      <td>0.00</td>\n",
       "    </tr>\n",
       "    <tr>\n",
       "      <th>West Village</th>\n",
       "      <td>0.03</td>\n",
       "      <td>0.02</td>\n",
       "      <td>0.01</td>\n",
       "      <td>0.02</td>\n",
       "      <td>0.07</td>\n",
       "      <td>...</td>\n",
       "      <td>0.03</td>\n",
       "      <td>0.04</td>\n",
       "      <td>0.03</td>\n",
       "      <td>0.03</td>\n",
       "      <td>0.01</td>\n",
       "    </tr>\n",
       "    <tr>\n",
       "      <th>Chelsea</th>\n",
       "      <td>0.08</td>\n",
       "      <td>0.06</td>\n",
       "      <td>0.03</td>\n",
       "      <td>0.06</td>\n",
       "      <td>0.08</td>\n",
       "      <td>...</td>\n",
       "      <td>0.05</td>\n",
       "      <td>0.05</td>\n",
       "      <td>0.05</td>\n",
       "      <td>0.05</td>\n",
       "      <td>0.02</td>\n",
       "    </tr>\n",
       "    <tr>\n",
       "      <th>Harlem</th>\n",
       "      <td>0.00</td>\n",
       "      <td>0.00</td>\n",
       "      <td>0.01</td>\n",
       "      <td>0.00</td>\n",
       "      <td>0.00</td>\n",
       "      <td>...</td>\n",
       "      <td>0.00</td>\n",
       "      <td>0.00</td>\n",
       "      <td>0.00</td>\n",
       "      <td>0.00</td>\n",
       "      <td>0.05</td>\n",
       "    </tr>\n",
       "    <tr>\n",
       "      <th>Washington Heights</th>\n",
       "      <td>0.00</td>\n",
       "      <td>0.00</td>\n",
       "      <td>0.00</td>\n",
       "      <td>0.00</td>\n",
       "      <td>0.00</td>\n",
       "      <td>...</td>\n",
       "      <td>0.00</td>\n",
       "      <td>0.00</td>\n",
       "      <td>0.00</td>\n",
       "      <td>0.00</td>\n",
       "      <td>0.01</td>\n",
       "    </tr>\n",
       "    <tr>\n",
       "      <th>Morningside Heights</th>\n",
       "      <td>0.00</td>\n",
       "      <td>0.00</td>\n",
       "      <td>0.00</td>\n",
       "      <td>0.00</td>\n",
       "      <td>0.00</td>\n",
       "      <td>...</td>\n",
       "      <td>0.00</td>\n",
       "      <td>0.00</td>\n",
       "      <td>0.00</td>\n",
       "      <td>0.00</td>\n",
       "      <td>0.02</td>\n",
       "    </tr>\n",
       "    <tr>\n",
       "      <th>NoHo</th>\n",
       "      <td>0.02</td>\n",
       "      <td>0.01</td>\n",
       "      <td>0.00</td>\n",
       "      <td>0.01</td>\n",
       "      <td>0.02</td>\n",
       "      <td>...</td>\n",
       "      <td>0.01</td>\n",
       "      <td>0.01</td>\n",
       "      <td>0.01</td>\n",
       "      <td>0.01</td>\n",
       "      <td>0.00</td>\n",
       "    </tr>\n",
       "    <tr>\n",
       "      <th>Ellis Island</th>\n",
       "      <td>0.00</td>\n",
       "      <td>0.00</td>\n",
       "      <td>0.00</td>\n",
       "      <td>0.00</td>\n",
       "      <td>0.00</td>\n",
       "      <td>...</td>\n",
       "      <td>0.00</td>\n",
       "      <td>0.00</td>\n",
       "      <td>0.00</td>\n",
       "      <td>0.00</td>\n",
       "      <td>0.00</td>\n",
       "    </tr>\n",
       "    <tr>\n",
       "      <th>Financial District</th>\n",
       "      <td>0.01</td>\n",
       "      <td>0.01</td>\n",
       "      <td>0.00</td>\n",
       "      <td>0.02</td>\n",
       "      <td>0.03</td>\n",
       "      <td>...</td>\n",
       "      <td>0.31</td>\n",
       "      <td>0.04</td>\n",
       "      <td>0.06</td>\n",
       "      <td>0.08</td>\n",
       "      <td>0.00</td>\n",
       "    </tr>\n",
       "    <tr>\n",
       "      <th>Little Italy</th>\n",
       "      <td>0.00</td>\n",
       "      <td>0.00</td>\n",
       "      <td>0.00</td>\n",
       "      <td>0.00</td>\n",
       "      <td>0.01</td>\n",
       "      <td>...</td>\n",
       "      <td>0.00</td>\n",
       "      <td>0.10</td>\n",
       "      <td>0.00</td>\n",
       "      <td>0.01</td>\n",
       "      <td>0.00</td>\n",
       "    </tr>\n",
       "    <tr>\n",
       "      <th>Civic Center</th>\n",
       "      <td>0.00</td>\n",
       "      <td>0.00</td>\n",
       "      <td>0.00</td>\n",
       "      <td>0.00</td>\n",
       "      <td>0.01</td>\n",
       "      <td>...</td>\n",
       "      <td>0.01</td>\n",
       "      <td>0.02</td>\n",
       "      <td>0.09</td>\n",
       "      <td>0.02</td>\n",
       "      <td>0.00</td>\n",
       "    </tr>\n",
       "    <tr>\n",
       "      <th>Chinatown</th>\n",
       "      <td>0.00</td>\n",
       "      <td>0.00</td>\n",
       "      <td>0.00</td>\n",
       "      <td>0.01</td>\n",
       "      <td>0.01</td>\n",
       "      <td>...</td>\n",
       "      <td>0.01</td>\n",
       "      <td>0.08</td>\n",
       "      <td>0.05</td>\n",
       "      <td>0.13</td>\n",
       "      <td>0.00</td>\n",
       "    </tr>\n",
       "    <tr>\n",
       "      <th>East Harlem</th>\n",
       "      <td>0.00</td>\n",
       "      <td>0.01</td>\n",
       "      <td>0.03</td>\n",
       "      <td>0.01</td>\n",
       "      <td>0.00</td>\n",
       "      <td>...</td>\n",
       "      <td>0.00</td>\n",
       "      <td>0.00</td>\n",
       "      <td>0.00</td>\n",
       "      <td>0.00</td>\n",
       "      <td>0.23</td>\n",
       "    </tr>\n",
       "  </tbody>\n",
       "</table>\n",
       "<p>38 rows × 38 columns</p>\n",
       "</div>"
      ],
      "text/plain": [
       "                     Gramercy  Kips Bay  Upper East Side  Stuyvesant Town  \\\n",
       "Gramercy                 0.18      0.06             0.01             0.07   \n",
       "Kips Bay                 0.05      0.19             0.01             0.05   \n",
       "Upper East Side          0.05      0.07             0.46             0.05   \n",
       "Stuyvesant Town          0.02      0.02             0.00             0.14   \n",
       "SoHo                     0.02      0.01             0.01             0.02   \n",
       "Outside Manhattan        0.05      0.05             0.05             0.07   \n",
       "Theater District         0.02      0.02             0.02             0.01   \n",
       "Lower East Side          0.03      0.02             0.00             0.03   \n",
       "Murray Hill              0.04      0.07             0.02             0.03   \n",
       "Flatiron District        0.04      0.03             0.01             0.02   \n",
       "Central Park             0.00      0.00             0.03             0.00   \n",
       "Hell's Kitchen           0.02      0.02             0.02             0.02   \n",
       "Greenwich Village        0.03      0.02             0.01             0.03   \n",
       "Tribeca                  0.01      0.01             0.00             0.01   \n",
       "Midtown                  0.14      0.18             0.17             0.11   \n",
       "East Village             0.12      0.08             0.01             0.16   \n",
       "Upper West Side          0.02      0.02             0.07             0.02   \n",
       "Inwood                   0.00      0.00             0.00             0.00   \n",
       "Battery Park City        0.00      0.00             0.00             0.01   \n",
       "Governors Island         0.00      0.00             0.00             0.00   \n",
       "Randall's Island         0.00      0.00             0.00             0.00   \n",
       "Liberty Island           0.00      0.00             0.00             0.00   \n",
       "Nolita                   0.01      0.00             0.00             0.00   \n",
       "Roosevelt Island         0.00      0.00             0.00             0.00   \n",
       "Two Bridges              0.00      0.00             0.00             0.00   \n",
       "Marble Hill              0.00      0.00             0.00             0.00   \n",
       "West Village             0.03      0.02             0.01             0.02   \n",
       "Chelsea                  0.08      0.06             0.03             0.06   \n",
       "Harlem                   0.00      0.00             0.01             0.00   \n",
       "Washington Heights       0.00      0.00             0.00             0.00   \n",
       "Morningside Heights      0.00      0.00             0.00             0.00   \n",
       "NoHo                     0.02      0.01             0.00             0.01   \n",
       "Ellis Island             0.00      0.00             0.00             0.00   \n",
       "Financial District       0.01      0.01             0.00             0.02   \n",
       "Little Italy             0.00      0.00             0.00             0.00   \n",
       "Civic Center             0.00      0.00             0.00             0.00   \n",
       "Chinatown                0.00      0.00             0.00             0.01   \n",
       "East Harlem              0.00      0.01             0.03             0.01   \n",
       "\n",
       "                     SoHo  ...  Financial District  Little Italy  \\\n",
       "Gramercy             0.02  ...                0.01          0.01   \n",
       "Kips Bay             0.01  ...                0.01          0.01   \n",
       "Upper East Side      0.03  ...                0.04          0.02   \n",
       "Stuyvesant Town      0.00  ...                0.00          0.00   \n",
       "SoHo                 0.25  ...                0.03          0.06   \n",
       "Outside Manhattan    0.08  ...                0.09          0.24   \n",
       "Theater District     0.02  ...                0.02          0.02   \n",
       "Lower East Side      0.02  ...                0.03          0.03   \n",
       "Murray Hill          0.01  ...                0.02          0.01   \n",
       "Flatiron District    0.02  ...                0.01          0.01   \n",
       "Central Park         0.00  ...                0.00          0.00   \n",
       "Hell's Kitchen       0.02  ...                0.03          0.02   \n",
       "Greenwich Village    0.05  ...                0.02          0.02   \n",
       "Tribeca              0.07  ...                0.05          0.03   \n",
       "Midtown              0.08  ...                0.09          0.07   \n",
       "East Village         0.04  ...                0.03          0.04   \n",
       "Upper West Side      0.02  ...                0.01          0.01   \n",
       "Inwood               0.00  ...                0.00          0.00   \n",
       "Battery Park City    0.02  ...                0.05          0.01   \n",
       "Governors Island     0.00  ...                0.00          0.00   \n",
       "Randall's Island     0.00  ...                0.00          0.00   \n",
       "Liberty Island       0.00  ...                0.00          0.00   \n",
       "Nolita               0.02  ...                0.01          0.02   \n",
       "Roosevelt Island     0.00  ...                0.00          0.00   \n",
       "Two Bridges          0.00  ...                0.01          0.00   \n",
       "Marble Hill          0.00  ...                0.00          0.00   \n",
       "West Village         0.07  ...                0.03          0.04   \n",
       "Chelsea              0.08  ...                0.05          0.05   \n",
       "Harlem               0.00  ...                0.00          0.00   \n",
       "Washington Heights   0.00  ...                0.00          0.00   \n",
       "Morningside Heights  0.00  ...                0.00          0.00   \n",
       "NoHo                 0.02  ...                0.01          0.01   \n",
       "Ellis Island         0.00  ...                0.00          0.00   \n",
       "Financial District   0.03  ...                0.31          0.04   \n",
       "Little Italy         0.01  ...                0.00          0.10   \n",
       "Civic Center         0.01  ...                0.01          0.02   \n",
       "Chinatown            0.01  ...                0.01          0.08   \n",
       "East Harlem          0.00  ...                0.00          0.00   \n",
       "\n",
       "                     Civic Center  Chinatown  East Harlem  \n",
       "Gramercy                     0.02       0.02         0.01  \n",
       "Kips Bay                     0.01       0.01         0.01  \n",
       "Upper East Side              0.03       0.02         0.28  \n",
       "Stuyvesant Town              0.00       0.00         0.00  \n",
       "SoHo                         0.06       0.05         0.00  \n",
       "Outside Manhattan            0.24       0.19         0.08  \n",
       "Theater District             0.02       0.02         0.02  \n",
       "Lower East Side              0.02       0.06         0.01  \n",
       "Murray Hill                  0.02       0.01         0.01  \n",
       "Flatiron District            0.01       0.01         0.00  \n",
       "Central Park                 0.00       0.00         0.02  \n",
       "Hell's Kitchen               0.02       0.02         0.02  \n",
       "Greenwich Village            0.03       0.03         0.00  \n",
       "Tribeca                      0.07       0.04         0.00  \n",
       "Midtown                      0.07       0.06         0.08  \n",
       "East Village                 0.04       0.06         0.01  \n",
       "Upper West Side              0.01       0.01         0.08  \n",
       "Inwood                       0.00       0.00         0.00  \n",
       "Battery Park City            0.02       0.01         0.00  \n",
       "Governors Island             0.00       0.00         0.00  \n",
       "Randall's Island             0.00       0.00         0.00  \n",
       "Liberty Island               0.00       0.00         0.00  \n",
       "Nolita                       0.01       0.01         0.00  \n",
       "Roosevelt Island             0.00       0.00         0.00  \n",
       "Two Bridges                  0.00       0.01         0.00  \n",
       "Marble Hill                  0.00       0.00         0.00  \n",
       "West Village                 0.03       0.03         0.01  \n",
       "Chelsea                      0.05       0.05         0.02  \n",
       "Harlem                       0.00       0.00         0.05  \n",
       "Washington Heights           0.00       0.00         0.01  \n",
       "Morningside Heights          0.00       0.00         0.02  \n",
       "NoHo                         0.01       0.01         0.00  \n",
       "Ellis Island                 0.00       0.00         0.00  \n",
       "Financial District           0.06       0.08         0.00  \n",
       "Little Italy                 0.00       0.01         0.00  \n",
       "Civic Center                 0.09       0.02         0.00  \n",
       "Chinatown                    0.05       0.13         0.00  \n",
       "East Harlem                  0.00       0.00         0.23  \n",
       "\n",
       "[38 rows x 38 columns]"
      ]
     },
     "execution_count": 135,
     "metadata": {},
     "output_type": "execute_result"
    }
   ],
   "source": [
    "# Normalize transition count matrix to get proportions\n",
    "tr_pr = np.divide(tr_counts, sums,\n",
    "                  out=np.zeros_like(tr_counts),\n",
    "                  where=sums!=0)\n",
    "print('State proportions: \\n')\n",
    "tr_df = pd.DataFrame(np.round(tr_pr,2), index=states, columns=states)\n",
    "pd.set_option('display.max_columns', 10)\n",
    "tr_df"
   ]
  },
  {
   "cell_type": "code",
   "execution_count": 136,
   "id": "ad7d464e",
   "metadata": {},
   "outputs": [
    {
     "name": "stdout",
     "output_type": "stream",
     "text": [
      "Column sums: Gramercy               0.99\n",
      "Kips Bay               0.98\n",
      "Upper East Side        0.98\n",
      "Stuyvesant Town        0.98\n",
      "SoHo                   1.01\n",
      "Outside Manhattan      0.99\n",
      "Theater District       0.97\n",
      "Lower East Side        0.98\n",
      "Murray Hill            1.01\n",
      "Flatiron District      0.98\n",
      "Central Park           1.00\n",
      "Hell's Kitchen         1.00\n",
      "Greenwich Village      0.98\n",
      "Tribeca                0.99\n",
      "Midtown                0.99\n",
      "East Village           0.99\n",
      "Upper West Side        1.02\n",
      "Inwood                 0.97\n",
      "Battery Park City      0.98\n",
      "Governors Island       0.99\n",
      "Randall's Island       0.99\n",
      "Liberty Island         1.00\n",
      "Nolita                 0.98\n",
      "Roosevelt Island       0.99\n",
      "Two Bridges            0.99\n",
      "Marble Hill            1.01\n",
      "West Village           0.99\n",
      "Chelsea                0.99\n",
      "Harlem                 1.00\n",
      "Washington Heights     1.01\n",
      "Morningside Heights    0.98\n",
      "NoHo                   0.99\n",
      "Ellis Island           0.99\n",
      "Financial District     0.98\n",
      "Little Italy           0.97\n",
      "Civic Center           0.99\n",
      "Chinatown              0.97\n",
      "East Harlem            0.97\n",
      "dtype: float64\n"
     ]
    }
   ],
   "source": [
    "#print(\"Row sums:\", tr_df.sum(axis=1))\n",
    "print(\"Column sums:\", tr_df.sum(axis=0))"
   ]
  },
  {
   "cell_type": "code",
   "execution_count": 137,
   "id": "786f6b74",
   "metadata": {},
   "outputs": [
    {
     "data": {
      "text/plain": [
       "<Axes: >"
      ]
     },
     "execution_count": 137,
     "metadata": {},
     "output_type": "execute_result"
    },
    {
     "data": {
      "image/png": "[encoded data removed]",
      "text/plain": [
       "<Figure size 1200x1000 with 2 Axes>"
      ]
     },
     "metadata": {},
     "output_type": "display_data"
    }
   ],
   "source": [
    "plt.figure(figsize=(12,10))\n",
    "sns.heatmap(tr_pr,\n",
    "            cmap='Blues',\n",
    "            square=True,\n",
    "            xticklabels=states,\n",
    "            yticklabels=states,)"
   ]
  },
  {
   "cell_type": "markdown",
   "id": "cc40f466",
   "metadata": {},
   "source": [
    "From the heatmap, it looks like the trip from Liberty Island to Greenwich Village is the most common. "
   ]
  },
  {
   "cell_type": "markdown",
   "id": "3f86cf92",
   "metadata": {},
   "source": [
    "Taxi cab paths are most likely order 1 and not order 2 because the destination really only depends on the location that the current person is leaving from. The trip 2 stops ago was likely a different person with plans unrelated to those of the person we're investigating now. "
   ]
  },
  {
   "cell_type": "code",
   "execution_count": 138,
   "id": "ca611188",
   "metadata": {},
   "outputs": [
    {
     "name": "stdout",
     "output_type": "stream",
     "text": [
      "11\n"
     ]
    }
   ],
   "source": [
    "print(states.index(\"Hell's Kitchen\"))\n",
    "# Index is 11\n",
    "\n",
    "HellsKitchen = np.zeros(38)\n",
    "HellsKitchen[11] = 1"
   ]
  },
  {
   "cell_type": "code",
   "execution_count": 139,
   "id": "3227643e",
   "metadata": {},
   "outputs": [
    {
     "name": "stdout",
     "output_type": "stream",
     "text": [
      "After two trips:\n",
      "\n",
      " Gramercy               0.0181\n",
      "Kips Bay               0.0168\n",
      "Upper East Side        0.0836\n",
      "Stuyvesant Town        0.0010\n",
      "SoHo                   0.0172\n",
      "Outside Manhattan      0.0641\n",
      "Theater District       0.0602\n",
      "Lower East Side        0.0111\n",
      "Murray Hill            0.0256\n",
      "Flatiron District      0.0169\n",
      "Central Park           0.0178\n",
      "Hell's Kitchen         0.1183\n",
      "Greenwich Village      0.0174\n",
      "Tribeca                0.0148\n",
      "Midtown                0.1736\n",
      "East Village           0.0230\n",
      "Upper West Side        0.1075\n",
      "Inwood                 0.0002\n",
      "Battery Park City      0.0102\n",
      "Governors Island       0.0000\n",
      "Randall's Island       0.0000\n",
      "Liberty Island         0.0000\n",
      "Nolita                 0.0010\n",
      "Roosevelt Island       0.0000\n",
      "Two Bridges            0.0001\n",
      "Marble Hill            0.0000\n",
      "West Village           0.0364\n",
      "Chelsea                0.1117\n",
      "Harlem                 0.0105\n",
      "Washington Heights     0.0021\n",
      "Morningside Heights    0.0087\n",
      "NoHo                   0.0035\n",
      "Ellis Island           0.0000\n",
      "Financial District     0.0137\n",
      "Little Italy           0.0001\n",
      "Civic Center           0.0006\n",
      "Chinatown              0.0008\n",
      "East Harlem            0.0076\n",
      "dtype: float64\n"
     ]
    }
   ],
   "source": [
    "twostops = tr_df @ tr_df @ HellsKitchen\n",
    "print('After two trips:\\n\\n',twostops)"
   ]
  },
  {
   "cell_type": "code",
   "execution_count": 140,
   "id": "4415e86a",
   "metadata": {},
   "outputs": [
    {
     "name": "stdout",
     "output_type": "stream",
     "text": [
      "After three trips:\n",
      "\n",
      " Gramercy               0.021296\n",
      "Kips Bay               0.019560\n",
      "Upper East Side        0.107359\n",
      "Stuyvesant Town        0.001814\n",
      "SoHo                   0.020530\n",
      "Outside Manhattan      0.078378\n",
      "Theater District       0.047177\n",
      "Lower East Side        0.012553\n",
      "Murray Hill            0.027395\n",
      "Flatiron District      0.018834\n",
      "Central Park           0.018976\n",
      "Hell's Kitchen         0.075411\n",
      "Greenwich Village      0.020438\n",
      "Tribeca                0.016248\n",
      "Midtown                0.172844\n",
      "East Village           0.030349\n",
      "Upper West Side        0.095560\n",
      "Inwood                 0.000248\n",
      "Battery Park City      0.009750\n",
      "Governors Island       0.000000\n",
      "Randall's Island       0.000000\n",
      "Liberty Island         0.000000\n",
      "Nolita                 0.001823\n",
      "Roosevelt Island       0.000000\n",
      "Two Bridges            0.000153\n",
      "Marble Hill            0.000000\n",
      "West Village           0.037186\n",
      "Chelsea                0.098823\n",
      "Harlem                 0.010138\n",
      "Washington Heights     0.002432\n",
      "Morningside Heights    0.007093\n",
      "NoHo                   0.005263\n",
      "Ellis Island           0.000000\n",
      "Financial District     0.015154\n",
      "Little Italy           0.000255\n",
      "Civic Center           0.000902\n",
      "Chinatown              0.001332\n",
      "East Harlem            0.011391\n",
      "dtype: float64\n"
     ]
    }
   ],
   "source": [
    "threestops = tr_df @ tr_df @ tr_df @ HellsKitchen\n",
    "print('After three trips:\\n\\n',threestops)"
   ]
  },
  {
   "cell_type": "code",
   "execution_count": 141,
   "id": "b3b5f51e",
   "metadata": {},
   "outputs": [
    {
     "name": "stdout",
     "output_type": "stream",
     "text": [
      "After five trips:\n",
      "\n",
      " Gramercy               0.022563\n",
      "Kips Bay               0.020698\n",
      "Upper East Side        0.120354\n",
      "Stuyvesant Town        0.002387\n",
      "SoHo                   0.022393\n",
      "Outside Manhattan      0.090933\n",
      "Theater District       0.039059\n",
      "Lower East Side        0.014199\n",
      "Murray Hill            0.027932\n",
      "Flatiron District      0.019070\n",
      "Central Park           0.018176\n",
      "Hell's Kitchen         0.056898\n",
      "Greenwich Village      0.021736\n",
      "Tribeca                0.016654\n",
      "Midtown                0.166913\n",
      "East Village           0.035054\n",
      "Upper West Side        0.082205\n",
      "Inwood                 0.000220\n",
      "Battery Park City      0.009447\n",
      "Governors Island       0.000000\n",
      "Randall's Island       0.000000\n",
      "Liberty Island         0.000000\n",
      "Nolita                 0.002453\n",
      "Roosevelt Island       0.000000\n",
      "Two Bridges            0.000188\n",
      "Marble Hill            0.000000\n",
      "West Village           0.036484\n",
      "Chelsea                0.088034\n",
      "Harlem                 0.009336\n",
      "Washington Heights     0.002141\n",
      "Morningside Heights    0.005475\n",
      "NoHo                   0.006310\n",
      "Ellis Island           0.000000\n",
      "Financial District     0.015961\n",
      "Little Italy           0.000398\n",
      "Civic Center           0.001100\n",
      "Chinatown              0.001810\n",
      "East Harlem            0.013151\n",
      "dtype: float64\n"
     ]
    }
   ],
   "source": [
    "fivestops = tr_df @ tr_df @ tr_df @ tr_df @ tr_df @ HellsKitchen\n",
    "print('After five trips:\\n\\n',fivestops)"
   ]
  },
  {
   "cell_type": "code",
   "execution_count": 142,
   "id": "4f377dd7",
   "metadata": {},
   "outputs": [
    {
     "name": "stdout",
     "output_type": "stream",
     "text": [
      "After ten trips:\n",
      "\n",
      " Gramercy               0.021839\n",
      "Kips Bay               0.020027\n",
      "Upper East Side        0.116517\n",
      "Stuyvesant Town        0.002415\n",
      "SoHo                   0.022028\n",
      "Outside Manhattan      0.092650\n",
      "Theater District       0.035951\n",
      "Lower East Side        0.014296\n",
      "Murray Hill            0.026890\n",
      "Flatiron District      0.018240\n",
      "Central Park           0.016872\n",
      "Hell's Kitchen         0.051583\n",
      "Greenwich Village      0.021111\n",
      "Tribeca                0.016205\n",
      "Midtown                0.158232\n",
      "East Village           0.034844\n",
      "Upper West Side        0.074139\n",
      "Inwood                 0.000183\n",
      "Battery Park City      0.009195\n",
      "Governors Island       0.000000\n",
      "Randall's Island       0.000000\n",
      "Liberty Island         0.000000\n",
      "Nolita                 0.002522\n",
      "Roosevelt Island       0.000000\n",
      "Two Bridges            0.000193\n",
      "Marble Hill            0.000000\n",
      "West Village           0.034908\n",
      "Chelsea                0.082280\n",
      "Harlem                 0.008480\n",
      "Washington Heights     0.001827\n",
      "Morningside Heights    0.004650\n",
      "NoHo                   0.006351\n",
      "Ellis Island           0.000000\n",
      "Financial District     0.015721\n",
      "Little Italy           0.000424\n",
      "Civic Center           0.001121\n",
      "Chinatown              0.001904\n",
      "East Harlem            0.012641\n",
      "dtype: float64\n"
     ]
    }
   ],
   "source": [
    "tenstops = tr_df @ tr_df @ tr_df @ tr_df @ tr_df @ tr_df @ tr_df @ tr_df @ tr_df @ tr_df @ HellsKitchen\n",
    "print('After ten trips:\\n\\n',tenstops)"
   ]
  },
  {
   "cell_type": "code",
   "execution_count": 155,
   "id": "8ba139b3",
   "metadata": {},
   "outputs": [
    {
     "name": "stdout",
     "output_type": "stream",
     "text": [
      "Gramercy               0.020674\n",
      "Kips Bay               0.018955\n",
      "Upper East Side        0.110068\n",
      "Stuyvesant Town        0.002289\n",
      "SoHo                   0.020878\n",
      "Outside Manhattan      0.087905\n",
      "Theater District       0.033984\n",
      "Lower East Side        0.013561\n",
      "Murray Hill            0.025444\n",
      "Flatiron District      0.017261\n",
      "Central Park           0.015924\n",
      "Hell's Kitchen         0.048748\n",
      "Greenwich Village      0.019994\n",
      "Tribeca                0.015368\n",
      "Midtown                0.149626\n",
      "East Village           0.033021\n",
      "Upper West Side        0.069928\n",
      "Inwood                 0.000172\n",
      "Battery Park City      0.008726\n",
      "Governors Island       0.000000\n",
      "Randall's Island       0.000000\n",
      "Liberty Island         0.000000\n",
      "Nolita                 0.002394\n",
      "Roosevelt Island       0.000000\n",
      "Two Bridges            0.000184\n",
      "Marble Hill            0.000000\n",
      "West Village           0.033061\n",
      "Chelsea                0.077849\n",
      "Harlem                 0.007989\n",
      "Washington Heights     0.001715\n",
      "Morningside Heights    0.004371\n",
      "NoHo                   0.006026\n",
      "Ellis Island           0.000000\n",
      "Financial District     0.014917\n",
      "Little Italy           0.000403\n",
      "Civic Center           0.001066\n",
      "Chinatown              0.001810\n",
      "East Harlem            0.011929\n",
      "dtype: float64\n",
      "0.14962613136220068\n"
     ]
    }
   ],
   "source": [
    "final = tr_df @ tr_df @ tr_df @ tr_df @ tr_df @ tr_df @ tr_df @ tr_df @ tr_df @ tr_df @ tr_df @ tr_df @ tr_df @ tr_df @ tr_df @ tr_df @ HellsKitchen\n",
    "print(final)\n",
    "print(max(final))"
   ]
  },
  {
   "cell_type": "markdown",
   "id": "f81d13d0",
   "metadata": {},
   "source": [
    "When I ran the transitions 16 times in a row above, they were still moving around a bit and not fully converged, but it seems like the cabs in Manhattan spend most of their time in Midtown. "
   ]
  }
 ],
 "metadata": {
  "kernelspec": {
   "display_name": "base",
   "language": "python",
   "name": "python3"
  },
  "language_info": {
   "codemirror_mode": {
    "name": "ipython",
    "version": 3
   },
   "file_extension": ".py",
   "mimetype": "text/x-python",
   "name": "python",
   "nbconvert_exporter": "python",
   "pygments_lexer": "ipython3",
   "version": "3.13.2"
  }
 },
 "nbformat": 4,
 "nbformat_minor": 5
}
