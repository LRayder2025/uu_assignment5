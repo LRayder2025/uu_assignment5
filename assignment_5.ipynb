{
 "cells": [
  {
   "cell_type": "markdown",
   "id": "dd21efe9",
   "metadata": {},
   "source": [
    "# Assignment 5\n",
    "### Do all four questions."
   ]
  },
  {
   "cell_type": "markdown",
   "id": "1ee9b4e8",
   "metadata": {},
   "source": [
    "**1.** Let's review some basic matrix multiplication. When you have an $M \\times N$ matrix $A$ with $M$ rows and $N$ columns, \n",
    "$$\n",
    "A= \\left[ \\begin{array}{cccc} a_{11} & a_{12} & ... & a_{1N} \\\\\n",
    "a_{21} & a_{22} & ... & a_{2N} \\\\\n",
    "\\vdots & \\vdots & ... & \\vdots \\\\\n",
    "a_{M1} & a_{M2} & ... & a_{MN} \n",
    "\\end{array} \\right],\n",
    "$$\n",
    "and you right-multiply it by a vector\n",
    "$$\n",
    "x = \\left[ \\begin{array}{c} x_1 \\\\ x_2 \\\\ \\vdots \\\\ x_N \n",
    "\\end{array} \\right],\n",
    "$$\n",
    "you get\n",
    "$$\n",
    "Ax = \\left[ \\begin{array}{c} \\sum_{i=1}^N a_{1i} x_i \\\\ \\sum_{i=1}^N a_{2i} x_i \\\\ \\vdots \\\\ \\sum_{i=1}^N a_{Mi} x_i \n",
    "\\end{array} \\right].\n",
    "$$\n",
    "This is just \"matrix row times column vector\" element-by-element, stacking the results into a new vector.\n",
    "\n",
    "For this to make sense, $N$ must be the same for the matrix and the vector, but $M$ can be different from $N$. \n",
    "\n",
    "Let's play with some NumPy to see this. First we'll define a matrix $A$:"
   ]
  },
  {
   "cell_type": "code",
   "execution_count": 101,
   "id": "33df3579",
   "metadata": {},
   "outputs": [
    {
     "data": {
      "text/plain": [
       "array([[1, 2, 3],\n",
       "       [4, 5, 6],\n",
       "       [7, 8, 9]])"
      ]
     },
     "execution_count": 101,
     "metadata": {},
     "output_type": "execute_result"
    }
   ],
   "source": [
    "import numpy as np\n",
    "\n",
    "A = np.array([ [1,2,3],\n",
    "              [4,5,6],\n",
    "              [7,8,9]])\n",
    "A"
   ]
  },
  {
   "cell_type": "markdown",
   "id": "94b1b3ac",
   "metadata": {},
   "source": [
    "a. Multiply $A$ times each of the following vectors using the @ operator. Explain which part of the $A$ matrix gets selected and explain why, using the definition of matrix multiplication. "
   ]
  },
  {
   "cell_type": "code",
   "execution_count": 102,
   "id": "5b6148d2",
   "metadata": {},
   "outputs": [],
   "source": [
    "e_1 = np.array([1,0,0])\n",
    "e_2 = np.array([0,1,0])\n",
    "e_3 = np.array([0,0,1])"
   ]
  },
  {
   "cell_type": "markdown",
   "id": "4a556179",
   "metadata": {},
   "source": [
    "### a. My Answer"
   ]
  },
  {
   "cell_type": "code",
   "execution_count": 103,
   "id": "a3559b95",
   "metadata": {},
   "outputs": [
    {
     "name": "stdout",
     "output_type": "stream",
     "text": [
      "[1 4 7]\n",
      "[2 5 8]\n",
      "[3 6 9]\n"
     ]
    }
   ],
   "source": [
    "print(A @ e_1)\n",
    "print(A @ e_2)\n",
    "print(A @ e_3)"
   ]
  },
  {
   "cell_type": "markdown",
   "id": "1332a23f",
   "metadata": {},
   "source": [
    "These resulting vectors make sense, because e_1 selects the first column of A, e_2 the second column, and e_3 the third. This is because the indices of our vector correspond to columns in the matrix, i.e. when there's a 1 in the first index of the array, it's multiplied into the first column, when there's a 0 in the second index of the vector, it's multiplied into second column. By setting only one item in the vector to 1 and the others to zero, we effectively return a single column of A since all the other columns are multiplied by zero. "
   ]
  },
  {
   "cell_type": "markdown",
   "id": "72a4704e",
   "metadata": {},
   "source": [
    "b. Now multiply $A$ times $u = (1,1,1)$. Explain the logic of the result with the definition of matrix multiplication."
   ]
  },
  {
   "cell_type": "code",
   "execution_count": 104,
   "id": "5bf73f9b",
   "metadata": {},
   "outputs": [],
   "source": [
    "u = np.ones(3)"
   ]
  },
  {
   "cell_type": "markdown",
   "id": "7809e3cb",
   "metadata": {},
   "source": [
    "### b. My Answer"
   ]
  },
  {
   "cell_type": "code",
   "execution_count": 105,
   "id": "2552b2dd",
   "metadata": {},
   "outputs": [
    {
     "data": {
      "text/plain": [
       "array([ 6., 15., 24.])"
      ]
     },
     "execution_count": 105,
     "metadata": {},
     "output_type": "execute_result"
    }
   ],
   "source": [
    "A @ u"
   ]
  },
  {
   "cell_type": "markdown",
   "id": "cc606211",
   "metadata": {},
   "source": [
    "This returns the sum of each row. This makes sense because u multiplies each value in the row by 1, and by the definition of matrix multiplication we then add each item in the row. "
   ]
  },
  {
   "cell_type": "markdown",
   "id": "dde75eab",
   "metadata": {},
   "source": [
    "c. Whenever a matrix has 1's on the diagonal and zeros everywhere else, we call it an **identity matrix**. What happens when you multiple $A$ times $x$ below? What happens when you multiple an identity matrix times any vector? Explain your result with the definition of matrix multiplication."
   ]
  },
  {
   "cell_type": "code",
   "execution_count": 106,
   "id": "b0d349c4",
   "metadata": {},
   "outputs": [],
   "source": [
    "A = np.array([ [1,0,0],\n",
    "              [0,1,0],\n",
    "              [0,0,1]])\n",
    "x = np.array([-2,4,11])\n"
   ]
  },
  {
   "cell_type": "markdown",
   "id": "38ad0f7a",
   "metadata": {},
   "source": [
    "### c. My Answer"
   ]
  },
  {
   "cell_type": "code",
   "execution_count": 107,
   "id": "b4a5c0d4",
   "metadata": {},
   "outputs": [
    {
     "data": {
      "text/plain": [
       "array([-2,  4, 11])"
      ]
     },
     "execution_count": 107,
     "metadata": {},
     "output_type": "execute_result"
    }
   ],
   "source": [
    "A @ x"
   ]
  },
  {
   "cell_type": "markdown",
   "id": "bb5610f0",
   "metadata": {},
   "source": [
    "Much like part a., here when we multiply x into A, the indices of the rows of A effectively each correspond to the indices of each item in the vector. This is because each time we multiply x into A, only one item is kept while the rest are multiplied by 0, and we do this once for every item. Since the identity matrix behaves like this, any time we multiply an identity matrix by any vector we will get that same vector back."
   ]
  },
  {
   "cell_type": "markdown",
   "id": "57141925",
   "metadata": {},
   "source": [
    "d. What if every row and column sum to 1, but the 1's are no longer on the diagonal? Multiple $A$ times $X$ below and explain the result. Create another matrix whose rows and columns sum to 1, but is not an identity matrix, and show how it permutes the values of $x$. "
   ]
  },
  {
   "cell_type": "code",
   "execution_count": 108,
   "id": "83a9ed11",
   "metadata": {},
   "outputs": [],
   "source": [
    "A = np.array([ [0,0,1],\n",
    "              [1,0,0],\n",
    "              [0,1,0]])\n",
    "x = np.array([-2,4,11])\n"
   ]
  },
  {
   "cell_type": "markdown",
   "id": "b726a877",
   "metadata": {},
   "source": [
    "### d. My Answer"
   ]
  },
  {
   "cell_type": "code",
   "execution_count": 109,
   "id": "3cd0f50d",
   "metadata": {},
   "outputs": [
    {
     "data": {
      "text/plain": [
       "array([11, -2,  4])"
      ]
     },
     "execution_count": 109,
     "metadata": {},
     "output_type": "execute_result"
    }
   ],
   "source": [
    "A @ x"
   ]
  },
  {
   "cell_type": "markdown",
   "id": "854730a6",
   "metadata": {},
   "source": [
    "Because the ones are not on the diagonal, the indices of the 1's in the rows of A are not in ascending order (i.e. here it's 3, 1, 2), so the items in x have a different order in the output than they did in x. "
   ]
  },
  {
   "cell_type": "code",
   "execution_count": 110,
   "id": "b7ec1524",
   "metadata": {},
   "outputs": [
    {
     "data": {
      "text/plain": [
       "array([-2, 11,  4])"
      ]
     },
     "execution_count": 110,
     "metadata": {},
     "output_type": "execute_result"
    }
   ],
   "source": [
    "B = np.array([ [1,0,0],\n",
    "              [0,0,1],\n",
    "              [0,1,0]])\n",
    "x = np.array([-2,4,11])\n",
    "\n",
    "B @ x"
   ]
  },
  {
   "cell_type": "markdown",
   "id": "611c26c3",
   "metadata": {},
   "source": [
    "e. The next matrix $A$ could be a Markov transition matrix: Its columns sum to 1, and each entry $a_{ij}$ can be interpreted as the proportion of observations who moved from state $j$ to state $i$. Multiply $A$ by each of the vectors $e_1$, $e_2$, and $e_3$, and explain your results."
   ]
  },
  {
   "cell_type": "code",
   "execution_count": 111,
   "id": "aff4fb97",
   "metadata": {},
   "outputs": [
    {
     "name": "stdout",
     "output_type": "stream",
     "text": [
      "[[0.50052958 0.24049286 0.18358131]\n",
      " [0.02574731 0.39251588 0.37907577]\n",
      " [0.47372311 0.36699127 0.43734292]]\n"
     ]
    }
   ],
   "source": [
    "rng = np.random.default_rng(100)\n",
    "A = rng.random((3,3)) # Generate a random 3X3 matrix\n",
    "sums = np.sum(A,axis=0) # Column sums\n",
    "A = A/sums # Normalize the columns so they sum to 1\n",
    "print(A)"
   ]
  },
  {
   "cell_type": "markdown",
   "id": "68e3b545",
   "metadata": {},
   "source": [
    "### e. My Answer"
   ]
  },
  {
   "cell_type": "code",
   "execution_count": 112,
   "id": "ca8f780b",
   "metadata": {},
   "outputs": [
    {
     "data": {
      "text/plain": [
       "array([0.18358131, 0.37907577, 0.43734292])"
      ]
     },
     "execution_count": 112,
     "metadata": {},
     "output_type": "execute_result"
    }
   ],
   "source": [
    "A @ e_1\n",
    "A @ e_2\n",
    "A @ e_3"
   ]
  },
  {
   "cell_type": "markdown",
   "id": "4f356dd9",
   "metadata": {},
   "source": [
    "Since we've established that each vector e_1, e_2, and e_3 corresponds to a column that will be selected in A, here multiplying by an e_j vector chooses which j starting position we're transitioning from. The column that is returned contains the probability of transitioning to each i state. "
   ]
  },
  {
   "cell_type": "markdown",
   "id": "0647bfa7",
   "metadata": {},
   "source": [
    "f. For each of the vectors $e_1, e_2, e_3$, multiple $A$ times that vector 5 times. What answer do you get for each starting vector? Describe the behavior you observe."
   ]
  },
  {
   "cell_type": "code",
   "execution_count": 113,
   "id": "02564680",
   "metadata": {},
   "outputs": [
    {
     "name": "stdout",
     "output_type": "stream",
     "text": [
      "[0.29266551 0.27862515 0.42870935]\n",
      "[0.29197422 0.27979983 0.42822595]\n",
      "[0.29171646 0.2802254  0.42805814]\n"
     ]
    }
   ],
   "source": [
    "print(A @ A @ A @ A @ A @ e_1)\n",
    "print(A @ A @ A @ A @ A @ e_2)\n",
    "print(A @ A @ A @ A @ A @ e_3)"
   ]
  },
  {
   "cell_type": "markdown",
   "id": "6b8d368b",
   "metadata": {},
   "source": [
    "For each starting vector we get roughly [0.29, 0.28, 0.43]. It seems that as we continue to multiply A times that vector, the result converges to certain values."
   ]
  },
  {
   "cell_type": "markdown",
   "id": "fa2c9a93",
   "metadata": {},
   "source": [
    "*2.* Let's consider a simple Markov transition matrix over two states:\n",
    "$$\n",
    "T = \\left[ \\begin{array}{cc} p_{1\\leftarrow 1} &  p_{1\\leftarrow 2} \\\\\n",
    "p_{2 \\leftarrow 1} & p_{2 \\leftarrow 2} \\end{array}\\right] \n",
    "$$\n",
    "The arrows help visualize the transition a bit: This is the same index notation as usual, $p_{ij}$, but writing it $p_{i \\leftarrow j}$ emphasizes that it's the proportion of times that state $j$ transitions to state $i$. Below, $T$ is given by\n",
    "$$\n",
    "T = \\left[ \\begin{array}{cc} .25 & .5 \\\\\n",
    ".75 & .5 \\end{array}\\right].\n",
    "$$\n",
    "\n",
    "- Start in state 1, at the initial condition $[1,0]$. Multiply that vector by $T$. Write out the result in terms of the formula and compute the result in a code chunk below. What is this object you're looking at, in terms of proportions and transitions?\n",
    "- Multiple by $T$ again. What do you get? This isn't a column of $T$. Explain in words what it is. (Hint: A forecast of what in what period?)\n",
    "- Keep multiplying the current vector of outcomes by $T$. When does it start to settle down without changing further?\n",
    "- Do the above analysis again, starting from the initial condition $[0,1]$. Do you get a different result?\n",
    "- The take-away is that, in the long run, these chains settle down into the long-run proportions, and the sensitivity on initial conditions vanishes. \n"
   ]
  },
  {
   "cell_type": "code",
   "execution_count": 114,
   "id": "4b6a775f",
   "metadata": {},
   "outputs": [],
   "source": [
    "T = np.array([[ 1/4, 1/2],\n",
    "                 [ 3/4, 1/2 ]])"
   ]
  },
  {
   "cell_type": "markdown",
   "id": "1d06b0be",
   "metadata": {},
   "source": [
    "### My Answers"
   ]
  },
  {
   "cell_type": "code",
   "execution_count": 115,
   "id": "ec2de77a",
   "metadata": {},
   "outputs": [
    {
     "data": {
      "text/plain": [
       "array([0.25, 0.75])"
      ]
     },
     "execution_count": 115,
     "metadata": {},
     "output_type": "execute_result"
    }
   ],
   "source": [
    "x = np.array([1,0])\n",
    "\n",
    "T @ x"
   ]
  },
  {
   "cell_type": "markdown",
   "id": "bff7e493",
   "metadata": {},
   "source": [
    "[ 0.25 , 0.5 ] [1]       [ 0.25(1) + 0.5(0)]      [0.25]\n",
    "                   -->                        --> \n",
    "[ 0.75 , 0.5 ] [0]       [ 0.75(1) + 0.5(0)]      [0.75]\n",
    "\n",
    "This object I'm looking at represents the probability of each transition that originates FROM state 1. 0.25 represents going from states 1 to 1, 0.75 represents going from states 1 to 2. \n",
    "\n",
    "(the formatting of this is off, but I hope you can still understand. I'm not sure how I can \"write out the result in terms of the formula\" without some pretty complex LaTeX)"
   ]
  },
  {
   "cell_type": "code",
   "execution_count": 117,
   "id": "c26882bb",
   "metadata": {},
   "outputs": [
    {
     "data": {
      "text/plain": [
       "array([0.4375, 0.5625])"
      ]
     },
     "execution_count": 117,
     "metadata": {},
     "output_type": "execute_result"
    }
   ],
   "source": [
    "T @ T @ x"
   ]
  },
  {
   "cell_type": "markdown",
   "id": "7bb320e2",
   "metadata": {},
   "source": [
    "Multiplying by T again returns another set of probabilities, this time it is predicting the transitions starting at state 1 (1 to 1, 1 to 2) for two steps down the road. "
   ]
  },
  {
   "cell_type": "code",
   "execution_count": 126,
   "id": "ef61fecd",
   "metadata": {},
   "outputs": [
    {
     "name": "stdout",
     "output_type": "stream",
     "text": [
      "[0.390625 0.609375] 3 Ts\n",
      "[0.40234375 0.59765625] 4 Ts\n",
      "[0.39941406 0.60058594] 5 Ts\n",
      "[0.40014648 0.59985352] 6 Ts\n",
      "[0.39996338 0.60003662] 7 Ts\n",
      "[0.40000916 0.59999084] 8 Ts\n",
      "[0.39999771 0.60000229] 9 Ts\n",
      "[0.40000057 0.59999943] 10 Ts\n",
      "[0.39999986 0.60000014] 11 Ts\n"
     ]
    }
   ],
   "source": [
    "print(T @ T @ T @ x, '3 Ts')\n",
    "print(T @ T @ T @ T @ x, '4 Ts')\n",
    "print(T @ T @ T @ T @ T @ x, '5 Ts')\n",
    "print(T @ T @ T @ T @ T @ T @ x, '6 Ts')\n",
    "print(T @ T @ T @ T @ T @ T @ T @ x, '7 Ts')\n",
    "print(T @ T @ T @ T @ T @ T @ T @ T @ x, '8 Ts')\n",
    "print(T @ T @ T @ T @ T @ T @ T @ T @ T @ x, '9 Ts')\n",
    "print(T @ T @ T @ T @ T @ T @ T @ T @ T @ T @ x, '10 Ts')\n",
    "print(T @ T @ T @ T @ T @ T @ T @ T @ T @ T @ T @ x, '11 Ts')"
   ]
  },
  {
   "cell_type": "markdown",
   "id": "315afecf",
   "metadata": {},
   "source": [
    "Continuing to multiply the vector outcomes by T, the result begins to settle down when we multiply the vector by T five times, though it does bounce around a little bit from there. "
   ]
  },
  {
   "cell_type": "code",
   "execution_count": 129,
   "id": "f4ad200b",
   "metadata": {},
   "outputs": [
    {
     "name": "stdout",
     "output_type": "stream",
     "text": [
      "[0.5 0.5] T @ y\n",
      "\n",
      "[0.375 0.625] 2 Ts\n",
      "[0.40625 0.59375] 3 Ts\n",
      "[0.3984375 0.6015625] 4 Ts\n",
      "[0.40039062 0.59960938] 5 Ts\n",
      "[0.39990234 0.60009766] 6 Ts\n",
      "[0.40002441 0.59997559] 7 Ts\n"
     ]
    }
   ],
   "source": [
    "y = np.array([0,1])\n",
    "\n",
    "print(T @ y, 'T @ y\\n')\n",
    "\n",
    "print(T @ T @ y, '2 Ts')\n",
    "print(T @ T @ T @ y, '3 Ts')\n",
    "print(T @ T @ T @ T @ y, '4 Ts')\n",
    "print(T @ T @ T @ T @ T @ y, '5 Ts')\n",
    "print(T @ T @ T @ T @ T @ T @ y, '6 Ts')\n",
    "print(T @ T @ T @ T @ T @ T @ T @ y, '7 Ts')"
   ]
  },
  {
   "cell_type": "markdown",
   "id": "461984eb",
   "metadata": {},
   "source": [
    "We actually get the SAME result in the long run when we change the initial condition to [0,1]."
   ]
  },
  {
   "cell_type": "markdown",
   "id": "921592e9",
   "metadata": {},
   "source": [
    "3. Weather data\n",
    "\n",
    "- Load the `cville_weather.csv` data. This includes data from Jan 4, 2024 to Feb 2, 2025. Are there any missing data issues?\n",
    "- Based on the precipitation variable, `PRCP`, make a new variable called `rain` that takes the value 1 if `PRCP`>0 and 0 otherwise.\n",
    "- Build a two-state Markov chain over the states 0 and 1 for the `rain` variable. \n",
    "- For your chain from c, how likely is it to rain if it was rainy yesterday? How likely is it to rain if it was clear yesterday?\n",
    "- Starting from a clear day, forecast the distribution. How quickly does it converge to a fixed result? What if you start from a rainy day?\n",
    "- Conditional on being rainy, plot a KDE of the `PRCP` variable.\n",
    "- Describe one way of making your model better for forecasting and simulation the weather.\n",
    "\n",
    "Congratulations, you now are a non-parametric meteorologist!"
   ]
  },
  {
   "cell_type": "code",
   "execution_count": 1,
   "id": "0571e993",
   "metadata": {},
   "outputs": [],
   "source": [
    "import pickle\n",
    "import numpy as np\n",
    "import seaborn as sns\n",
    "import matplotlib.pyplot as plt\n",
    "import pandas as pd"
   ]
  },
  {
   "cell_type": "markdown",
   "id": "b953c2c4",
   "metadata": {},
   "source": [
    "4. Taxicab trajectories: Using the pickled taxicab data, we want to complete the exercise from class.\n",
    "\n",
    "- For the taxicab trajectory data, determine your state space and clean your sequences of cab rides.\n",
    "- Compute the transition matrix for the taxicab data between neighborhoods in Manhattan. Plot it in a heat map. What are the most common routes?\n",
    "- Explain why taxicabs are most likely order 1, and not 2 or more.\n",
    "- Starting at Hell's Kitchen, create a sequence of forecasts of where the cab is likely to be in 2, 3, 5, and 10 trips\n",
    "- Starting at any neighborhood, iterate your forecast until it is no longer changing very much. Where do cabs spend most of their time working in Manhattan?"
   ]
  },
  {
   "cell_type": "markdown",
   "id": "2a5bc945",
   "metadata": {},
   "source": [
    "(The following code is written with guidance from Terry)"
   ]
  },
  {
   "cell_type": "code",
   "execution_count": 6,
   "id": "501794be",
   "metadata": {},
   "outputs": [
    {
     "name": "stdout",
     "output_type": "stream",
     "text": [
      "1000\n",
      "<class 'pandas.core.series.Series'>\n"
     ]
    }
   ],
   "source": [
    "with open('taxicab.pkl', 'rb') as f:\n",
    "    data = pickle.load(f)\n",
    "\n",
    "print(len(data))\n",
    "data[0]\n",
    "\n",
    "print(type(data[2]))"
   ]
  },
  {
   "cell_type": "code",
   "execution_count": null,
   "id": "f4d3936f",
   "metadata": {},
   "outputs": [
    {
     "name": "stdout",
     "output_type": "stream",
     "text": [
      "33\n",
      "{'Morningside Heights', 'Inwood', 'Civic Center', 'Chelsea', 'Theater District', 'Battery Park City', 'NoHo', 'Financial District', 'SoHo', 'Kips Bay', 'Outside Manhattan', 'Central Park', 'Lower East Side', 'East Harlem', 'Gramercy', 'Washington Heights', 'Tribeca', 'West Village', 'Murray Hill', 'Little Italy', 'Upper East Side', 'Flatiron District', 'Chinatown', 'Two Bridges', \"Hell's Kitchen\", 'Upper West Side', 'East Village', 'Harlem', 'Greenwich Village', 'Stuyvesant Town', 'Nolita', 'Roosevelt Island', 'Midtown'}\n"
     ]
    }
   ],
   "source": [
    "# Investigating all the states\n",
    "print(len(set(data[0])))\n",
    "print(set(data[0]))"
   ]
  },
  {
   "cell_type": "code",
   "execution_count": 12,
   "id": "01819cc1",
   "metadata": {},
   "outputs": [],
   "source": [
    "# Getting unique rows from the data?\n",
    "states = set(data[0])\n",
    "for i in range(1,len(data)):\n",
    "    trip_i = set(data[i])\n",
    "    states = states.union(trip_i)\n",
    "states = list(states)"
   ]
  },
  {
   "cell_type": "code",
   "execution_count": null,
   "id": "a2eb8358",
   "metadata": {},
   "outputs": [
    {
     "data": {
      "text/plain": [
       "38"
      ]
     },
     "execution_count": 21,
     "metadata": {},
     "output_type": "execute_result"
    }
   ],
   "source": [
    "states"
   ]
  },
  {
   "cell_type": "code",
   "execution_count": null,
   "id": "de2e65f1",
   "metadata": {},
   "outputs": [
    {
     "name": "stdout",
     "output_type": "stream",
     "text": [
      "Transition Counts\n",
      " [[3.239700e+04 3.100000e+01 4.180000e+02 ... 1.060000e+02 2.500000e+01\n",
      "  1.021700e+04]\n",
      " [3.700000e+01 6.390000e+02 2.000000e+00 ... 2.000000e+00 1.000000e+00\n",
      "  2.070000e+02]\n",
      " [1.745000e+03 0.000000e+00 9.800000e+02 ... 1.500000e+01 4.000000e+00\n",
      "  9.110000e+02]\n",
      " ...\n",
      " [1.270000e+02 3.000000e+00 2.600000e+01 ... 1.683800e+04 1.900000e+01\n",
      "  7.344000e+03]\n",
      " [2.200000e+01 3.000000e+00 6.000000e+00 ... 1.100000e+01 9.750000e+02\n",
      "  1.219000e+03]\n",
      " [8.608000e+03 2.690000e+02 1.386000e+03 ... 7.000000e+03 1.426000e+03\n",
      "  1.389343e+06]]\n"
     ]
    }
   ],
   "source": [
    "## Compute transition counts\n",
    "S = len(states)\n",
    "tr_counts = np.zeros((S,S))\n",
    "\n",
    "for trip in data:\n",
    "    seq = np.array(trip)\n",
    "    for t in range(1, len(seq)):\n",
    "        # Current and next tokens\n",
    "        x_tm1 = seq[t-1] # previous state\n",
    "        x_t = seq[t] # current state\n",
    "        # Determine transition indices:\n",
    "        index_from = states.index(x_tm1)\n",
    "        index_to = states.index(x_t)\n",
    "        # Update transition counts\n",
    "        tr_counts[index_from, index_to] += 1\n",
    "\n",
    "print('Transition Counts\\n', tr_counts)"
   ]
  },
  {
   "cell_type": "code",
   "execution_count": null,
   "id": "ddb6418e",
   "metadata": {},
   "outputs": [
    {
     "name": "stdout",
     "output_type": "stream",
     "text": [
      "State propotyions: \n",
      "\n",
      "[[1.627050e+05 3.603000e+03 1.431200e+04 5.790800e+04 1.978283e+06\n",
      "  8.740550e+05 2.292330e+05 3.000000e+00 1.743220e+05 4.415950e+05\n",
      "  5.505970e+05 5.077760e+05 2.363961e+06 3.701250e+05 3.705660e+05\n",
      "  3.168490e+05 5.017430e+05 4.930000e+02 7.253000e+04 4.086400e+05\n",
      "  8.393620e+05 6.543970e+05 1.200000e+01 3.859100e+04 2.797713e+06\n",
      "  3.952740e+05 1.058730e+05 1.038800e+04 1.224325e+06 1.803491e+06\n",
      "  8.886440e+05 2.171620e+05 1.000000e+00 5.102620e+05 1.112860e+05\n",
      "  1.063770e+05 8.010000e+03 3.851929e+06]]\n"
     ]
    }
   ],
   "source": [
    "# Sum transititon counts bt row:\n",
    "sums = tr_counts.sum(axis=0, keepdims=True)\n",
    "print('State proportions: \\n')\n",
    "print(sums)"
   ]
  },
  {
   "cell_type": "code",
   "execution_count": 19,
   "id": "9ae6c330",
   "metadata": {},
   "outputs": [
    {
     "name": "stdout",
     "output_type": "stream",
     "text": [
      "State proportions: \n",
      "\n",
      "                     Morningside Heights  Randall's Island  Inwood  \\\n",
      "Morningside Heights                 0.20              0.01    0.03   \n",
      "Randall's Island                    0.00              0.18    0.00   \n",
      "Inwood                              0.01              0.00    0.07   \n",
      "Civic Center                        0.00              0.00    0.00   \n",
      "Chelsea                             0.03              0.03    0.08   \n",
      "Theater District                    0.02              0.01    0.04   \n",
      "Battery Park City                   0.00              0.00    0.00   \n",
      "Ellis Island                        0.00              0.00    0.00   \n",
      "NoHo                                0.00              0.00    0.00   \n",
      "Financial District                  0.00              0.00    0.01   \n",
      "SoHo                                0.00              0.01    0.01   \n",
      "Kips Bay                            0.00              0.01    0.01   \n",
      "Outside Manhattan                   0.06              0.22    0.10   \n",
      "Central Park                        0.02              0.02    0.01   \n",
      "Lower East Side                     0.00              0.01    0.01   \n",
      "East Harlem                         0.03              0.08    0.02   \n",
      "Gramercy                            0.00              0.01    0.01   \n",
      "Marble Hill                         0.00              0.00    0.00   \n",
      "Washington Heights                  0.05              0.00    0.03   \n",
      "Tribeca                             0.00              0.00    0.01   \n",
      "West Village                        0.01              0.01    0.02   \n",
      "Murray Hill                         0.01              0.02    0.01   \n",
      "Governors Island                    0.00              0.00    0.00   \n",
      "Little Italy                        0.00              0.00    0.00   \n",
      "Upper East Side                     0.08              0.17    0.08   \n",
      "Flatiron District                   0.00              0.00    0.01   \n",
      "Chinatown                           0.00              0.00    0.00   \n",
      "Two Bridges                         0.00              0.00    0.00   \n",
      "Hell's Kitchen                      0.03              0.02    0.10   \n",
      "Upper West Side                     0.25              0.05    0.15   \n",
      "East Village                        0.01              0.02    0.02   \n",
      "Harlem                              0.12              0.03    0.03   \n",
      "Liberty Island                      0.00              0.00    0.00   \n",
      "Greenwich Village                   0.00              0.01    0.01   \n",
      "Stuyvesant Town                     0.00              0.00    0.00   \n",
      "Nolita                              0.00              0.00    0.00   \n",
      "Roosevelt Island                    0.00              0.00    0.00   \n",
      "Midtown                             0.05              0.07    0.10   \n",
      "\n",
      "                     Civic Center  Chelsea  Theater District  \\\n",
      "Morningside Heights          0.00     0.00              0.00   \n",
      "Randall's Island             0.00     0.00              0.00   \n",
      "Inwood                       0.00     0.00              0.00   \n",
      "Civic Center                 0.09     0.00              0.00   \n",
      "Chelsea                      0.05     0.33              0.08   \n",
      "Theater District             0.02     0.04              0.21   \n",
      "Battery Park City            0.02     0.01              0.01   \n",
      "Ellis Island                 0.00     0.00              0.00   \n",
      "NoHo                         0.01     0.01              0.00   \n",
      "Financial District           0.06     0.01              0.01   \n",
      "SoHo                         0.06     0.02              0.01   \n",
      "Kips Bay                     0.01     0.02              0.01   \n",
      "Outside Manhattan            0.24     0.03              0.05   \n",
      "Central Park                 0.00     0.01              0.02   \n",
      "Lower East Side              0.02     0.01              0.00   \n",
      "East Harlem                  0.00     0.00              0.01   \n",
      "Gramercy                     0.02     0.03              0.01   \n",
      "Marble Hill                  0.00     0.00              0.00   \n",
      "Washington Heights           0.00     0.00              0.00   \n",
      "Tribeca                      0.07     0.02              0.01   \n",
      "West Village                 0.03     0.06              0.02   \n",
      "Murray Hill                  0.02     0.02              0.02   \n",
      "Governors Island             0.00     0.00              0.00   \n",
      "Little Italy                 0.00     0.00              0.00   \n",
      "Upper East Side              0.03     0.04              0.06   \n",
      "Flatiron District            0.01     0.03              0.01   \n",
      "Chinatown                    0.05     0.00              0.00   \n",
      "Two Bridges                  0.00     0.00              0.00   \n",
      "Hell's Kitchen               0.02     0.07              0.11   \n",
      "Upper West Side              0.01     0.03              0.07   \n",
      "East Village                 0.04     0.03              0.01   \n",
      "Harlem                       0.00     0.00              0.00   \n",
      "Liberty Island               0.00     0.00              0.00   \n",
      "Greenwich Village            0.03     0.03              0.01   \n",
      "Stuyvesant Town              0.00     0.00              0.00   \n",
      "Nolita                       0.01     0.00              0.00   \n",
      "Roosevelt Island             0.00     0.00              0.00   \n",
      "Midtown                      0.07     0.14              0.23   \n",
      "\n",
      "                     Battery Park City  Ellis Island  NoHo  \\\n",
      "Morningside Heights               0.00          0.00  0.00   \n",
      "Randall's Island                  0.00          0.00  0.00   \n",
      "Inwood                            0.00          0.00  0.00   \n",
      "Civic Center                      0.01          0.00  0.00   \n",
      "Chelsea                           0.07          0.00  0.07   \n",
      "Theater District                  0.02          0.00  0.01   \n",
      "Battery Park City                 0.26          0.00  0.01   \n",
      "Ellis Island                      0.00          0.00  0.00   \n",
      "NoHo                              0.01          0.00  0.14   \n",
      "Financial District                0.09          0.33  0.01   \n",
      "SoHo                              0.04          0.00  0.06   \n",
      "Kips Bay                          0.01          0.00  0.02   \n",
      "Outside Manhattan                 0.06          0.33  0.07   \n",
      "Central Park                      0.00          0.00  0.00   \n",
      "Lower East Side                   0.01          0.00  0.04   \n",
      "East Harlem                       0.00          0.00  0.00   \n",
      "Gramercy                          0.01          0.00  0.04   \n",
      "Marble Hill                       0.00          0.00  0.00   \n",
      "Washington Heights                0.00          0.00  0.00   \n",
      "Tribeca                           0.10          0.00  0.02   \n",
      "West Village                      0.05          0.00  0.05   \n",
      "Murray Hill                       0.01          0.00  0.02   \n",
      "Governors Island                  0.00          0.00  0.00   \n",
      "Little Italy                      0.00          0.00  0.01   \n",
      "Upper East Side                   0.03          0.00  0.04   \n",
      "Flatiron District                 0.01          0.00  0.02   \n",
      "Chinatown                         0.01          0.00  0.01   \n",
      "Two Bridges                       0.00          0.00  0.00   \n",
      "Hell's Kitchen                    0.04          0.00  0.02   \n",
      "Upper West Side                   0.02          0.00  0.01   \n",
      "East Village                      0.02          0.00  0.12   \n",
      "Harlem                            0.00          0.00  0.00   \n",
      "Liberty Island                    0.00          0.00  0.00   \n",
      "Greenwich Village                 0.02          0.00  0.08   \n",
      "Stuyvesant Town                   0.00          0.00  0.01   \n",
      "Nolita                            0.00          0.00  0.03   \n",
      "Roosevelt Island                  0.00          0.00  0.00   \n",
      "Midtown                           0.08          0.33  0.08   \n",
      "\n",
      "                     Financial District  ...  Hell's Kitchen  Upper West Side  \\\n",
      "Morningside Heights                0.00  ...            0.01             0.03   \n",
      "Randall's Island                   0.00  ...            0.00             0.00   \n",
      "Inwood                             0.00  ...            0.00             0.00   \n",
      "Civic Center                       0.01  ...            0.00             0.00   \n",
      "Chelsea                            0.05  ...            0.12             0.04   \n",
      "Theater District                   0.02  ...            0.08             0.03   \n",
      "Battery Park City                  0.05  ...            0.01             0.00   \n",
      "Ellis Island                       0.00  ...            0.00             0.00   \n",
      "NoHo                               0.01  ...            0.00             0.00   \n",
      "Financial District                 0.31  ...            0.01             0.00   \n",
      "SoHo                               0.03  ...            0.01             0.01   \n",
      "Kips Bay                           0.01  ...            0.01             0.01   \n",
      "Outside Manhattan                  0.09  ...            0.04             0.03   \n",
      "Central Park                       0.00  ...            0.01             0.05   \n",
      "Lower East Side                    0.03  ...            0.01             0.00   \n",
      "East Harlem                        0.00  ...            0.00             0.02   \n",
      "Gramercy                           0.01  ...            0.01             0.01   \n",
      "Marble Hill                        0.00  ...            0.00             0.00   \n",
      "Washington Heights                 0.00  ...            0.00             0.01   \n",
      "Tribeca                            0.05  ...            0.01             0.00   \n",
      "West Village                       0.03  ...            0.03             0.01   \n",
      "Murray Hill                        0.02  ...            0.02             0.01   \n",
      "Governors Island                   0.00  ...            0.00             0.00   \n",
      "Little Italy                       0.00  ...            0.00             0.00   \n",
      "Upper East Side                    0.04  ...            0.04             0.11   \n",
      "Flatiron District                  0.01  ...            0.01             0.01   \n",
      "Chinatown                          0.01  ...            0.00             0.00   \n",
      "Two Bridges                        0.01  ...            0.00             0.00   \n",
      "Hell's Kitchen                     0.03  ...            0.28             0.07   \n",
      "Upper West Side                    0.01  ...            0.11             0.42   \n",
      "East Village                       0.03  ...            0.01             0.01   \n",
      "Harlem                             0.00  ...            0.01             0.03   \n",
      "Liberty Island                     0.00  ...            0.00             0.00   \n",
      "Greenwich Village                  0.02  ...            0.01             0.01   \n",
      "Stuyvesant Town                    0.00  ...            0.00             0.00   \n",
      "Nolita                             0.01  ...            0.00             0.00   \n",
      "Roosevelt Island                   0.00  ...            0.00             0.00   \n",
      "Midtown                            0.09  ...            0.15             0.10   \n",
      "\n",
      "                     East Village  Harlem  Liberty Island  Greenwich Village  \\\n",
      "Morningside Heights          0.00    0.05             0.0               0.00   \n",
      "Randall's Island             0.00    0.00             0.0               0.00   \n",
      "Inwood                       0.00    0.01             0.0               0.00   \n",
      "Civic Center                 0.00    0.00             0.0               0.00   \n",
      "Chelsea                      0.06    0.04             0.0               0.10   \n",
      "Theater District             0.01    0.02             0.0               0.02   \n",
      "Battery Park City            0.01    0.00             0.0               0.01   \n",
      "Ellis Island                 0.00    0.00             0.0               0.00   \n",
      "NoHo                         0.02    0.00             0.0               0.02   \n",
      "Financial District           0.02    0.00             0.0               0.02   \n",
      "SoHo                         0.03    0.01             0.0               0.05   \n",
      "Kips Bay                     0.04    0.01             0.0               0.02   \n",
      "Outside Manhattan            0.09    0.08             0.0               0.04   \n",
      "Central Park                 0.00    0.02             0.0               0.00   \n",
      "Lower East Side              0.06    0.01             0.0               0.02   \n",
      "East Harlem                  0.00    0.06             0.0               0.00   \n",
      "Gramercy                     0.05    0.01             0.0               0.04   \n",
      "Marble Hill                  0.00    0.00             0.0               0.00   \n",
      "Washington Heights           0.00    0.05             0.0               0.00   \n",
      "Tribeca                      0.01    0.00             0.0               0.02   \n",
      "West Village                 0.04    0.01             0.0               0.08   \n",
      "Murray Hill                  0.03    0.01             0.0               0.02   \n",
      "Governors Island             0.00    0.00             0.0               0.00   \n",
      "Little Italy                 0.00    0.00             0.0               0.00   \n",
      "Upper East Side              0.04    0.09             0.0               0.04   \n",
      "Flatiron District            0.02    0.01             0.0               0.03   \n",
      "Chinatown                    0.01    0.00             0.0               0.00   \n",
      "Two Bridges                  0.00    0.00             0.0               0.00   \n",
      "Hell's Kitchen               0.02    0.05             0.0               0.02   \n",
      "Upper West Side              0.01    0.15             0.0               0.02   \n",
      "East Village                 0.27    0.02             0.0               0.07   \n",
      "Harlem                       0.00    0.21             0.0               0.00   \n",
      "Liberty Island               0.00    0.00             0.0               0.00   \n",
      "Greenwich Village            0.04    0.01             1.0               0.22   \n",
      "Stuyvesant Town              0.01    0.00             0.0               0.01   \n",
      "Nolita                       0.01    0.00             0.0               0.01   \n",
      "Roosevelt Island             0.00    0.00             0.0               0.00   \n",
      "Midtown                      0.09    0.07             0.0               0.10   \n",
      "\n",
      "                     Stuyvesant Town  Nolita  Roosevelt Island  Midtown  \n",
      "Morningside Heights             0.00    0.00              0.00     0.00  \n",
      "Randall's Island                0.00    0.00              0.00     0.00  \n",
      "Inwood                          0.00    0.00              0.00     0.00  \n",
      "Civic Center                    0.00    0.01              0.00     0.00  \n",
      "Chelsea                         0.06    0.06              0.05     0.07  \n",
      "Theater District                0.01    0.01              0.03     0.05  \n",
      "Battery Park City               0.01    0.01              0.00     0.00  \n",
      "Ellis Island                    0.00    0.00              0.00     0.00  \n",
      "NoHo                            0.01    0.02              0.00     0.00  \n",
      "Financial District              0.02    0.02              0.01     0.01  \n",
      "SoHo                            0.02    0.08              0.01     0.01  \n",
      "Kips Bay                        0.05    0.02              0.02     0.02  \n",
      "Outside Manhattan               0.07    0.14              0.23     0.05  \n",
      "Central Park                    0.00    0.00              0.01     0.02  \n",
      "Lower East Side                 0.03    0.06              0.01     0.01  \n",
      "East Harlem                     0.01    0.00              0.01     0.01  \n",
      "Gramercy                        0.07    0.02              0.01     0.02  \n",
      "Marble Hill                     0.00    0.00              0.00     0.00  \n",
      "Washington Heights              0.00    0.00              0.00     0.00  \n",
      "Tribeca                         0.01    0.03              0.01     0.01  \n",
      "West Village                    0.02    0.05              0.02     0.02  \n",
      "Murray Hill                     0.03    0.01              0.03     0.04  \n",
      "Governors Island                0.00    0.00              0.00     0.00  \n",
      "Little Italy                    0.00    0.03              0.00     0.00  \n",
      "Upper East Side                 0.05    0.03              0.12     0.13  \n",
      "Flatiron District               0.02    0.01              0.01     0.02  \n",
      "Chinatown                       0.01    0.02              0.00     0.00  \n",
      "Two Bridges                     0.00    0.00              0.00     0.00  \n",
      "Hell's Kitchen                  0.02    0.02              0.03     0.05  \n",
      "Upper West Side                 0.02    0.01              0.04     0.06  \n",
      "East Village                    0.16    0.06              0.03     0.02  \n",
      "Harlem                          0.00    0.00              0.00     0.00  \n",
      "Liberty Island                  0.00    0.00              0.00     0.00  \n",
      "Greenwich Village               0.03    0.03              0.01     0.01  \n",
      "Stuyvesant Town                 0.14    0.00              0.00     0.00  \n",
      "Nolita                          0.00    0.16              0.00     0.00  \n",
      "Roosevelt Island                0.00    0.00              0.12     0.00  \n",
      "Midtown                         0.11    0.07              0.18     0.36  \n",
      "\n",
      "[38 rows x 38 columns]\n"
     ]
    }
   ],
   "source": [
    "# Normalize transition count matrix to get proportions\n",
    "tr_pr = np.divide(tr_counts, sums,\n",
    "                  out=np.zeros_like(tr_counts),\n",
    "                  where=sums!=0)\n",
    "print('State proportions: \\n')\n",
    "tr_df = pd.DataFrame(np.round(tr_pr,2), index=states, columns=states)\n",
    "print(tr_df)"
   ]
  },
  {
   "cell_type": "code",
   "execution_count": 20,
   "id": "786f6b74",
   "metadata": {},
   "outputs": [
    {
     "data": {
      "text/plain": [
       "<Axes: >"
      ]
     },
     "execution_count": 20,
     "metadata": {},
     "output_type": "execute_result"
    },
    {
     "data": {
      "image/png": "[encoded data removed]",
      "text/plain": [
       "<Figure size 1200x1000 with 2 Axes>"
      ]
     },
     "metadata": {},
     "output_type": "display_data"
    }
   ],
   "source": [
    "plt.figure(figsize=(12,10))\n",
    "sns.heatmap(tr_pr,\n",
    "            cmap='Blues',\n",
    "            square=True,\n",
    "            xticklabels=states,\n",
    "            yticklabels=states,)"
   ]
  }
 ],
 "metadata": {
  "kernelspec": {
   "display_name": "base",
   "language": "python",
   "name": "python3"
  },
  "language_info": {
   "codemirror_mode": {
    "name": "ipython",
    "version": 3
   },
   "file_extension": ".py",
   "mimetype": "text/x-python",
   "name": "python",
   "nbconvert_exporter": "python",
   "pygments_lexer": "ipython3",
   "version": "3.13.2"
  }
 },
 "nbformat": 4,
 "nbformat_minor": 5
}
